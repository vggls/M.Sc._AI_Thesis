{
  "nbformat": 4,
  "nbformat_minor": 0,
  "metadata": {
    "colab": {
      "provenance": [],
      "collapsed_sections": [
        "Zh1o6lMCZCj-",
        "lUnfNpSJZG-p",
        "YuQBeibyZHTv"
      ],
      "include_colab_link": true
    },
    "kernelspec": {
      "name": "python3",
      "display_name": "Python 3"
    },
    "language_info": {
      "name": "python"
    },
    "accelerator": "GPU",
    "gpuClass": "standard"
  },
  "cells": [
    {
      "cell_type": "markdown",
      "metadata": {
        "id": "view-in-github",
        "colab_type": "text"
      },
      "source": [
        "<a href=\"https://colab.research.google.com/github/vggls/msc_thesis_medical_xai/blob/main/experiments/ham10k_resnet50/HAAS_Results.ipynb\" target=\"_parent\"><img src=\"https://colab.research.google.com/assets/colab-badge.svg\" alt=\"Open In Colab\"/></a>"
      ]
    },
    {
      "cell_type": "markdown",
      "source": [
        "# **1. Imports**"
      ],
      "metadata": {
        "id": "Zh1o6lMCZCj-"
      }
    },
    {
      "cell_type": "code",
      "execution_count": null,
      "metadata": {
        "id": "SigcnEFcYz8E"
      },
      "outputs": [],
      "source": [
        "pip install grad-cam"
      ]
    },
    {
      "cell_type": "code",
      "source": [
        "import torch\n",
        "from torchvision  import datasets, transforms\n",
        "from pytorch_grad_cam import GradCAM, HiResCAM"
      ],
      "metadata": {
        "id": "0RleSY2DZfat"
      },
      "execution_count": null,
      "outputs": []
    },
    {
      "cell_type": "code",
      "source": [
        "# custom written code\n",
        "from ham10k import map_images_to_paths, create_datasets, summaries\n",
        "from haas import Haas, HA_image"
      ],
      "metadata": {
        "id": "G1sIhjNKZfg-"
      },
      "execution_count": null,
      "outputs": []
    },
    {
      "cell_type": "code",
      "source": [
        "from google.colab import drive\n",
        "drive.mount('/content/drive')"
      ],
      "metadata": {
        "colab": {
          "base_uri": "https://localhost:8080/"
        },
        "id": "RxU5MD_6ZmEz",
        "outputId": "a6569794-7561-4091-90f9-65ac69292481"
      },
      "execution_count": null,
      "outputs": [
        {
          "output_type": "stream",
          "name": "stdout",
          "text": [
            "Mounted at /content/drive\n"
          ]
        }
      ]
    },
    {
      "cell_type": "markdown",
      "source": [
        "# **2. Download from Kaggle**"
      ],
      "metadata": {
        "id": "lUnfNpSJZG-p"
      }
    },
    {
      "cell_type": "code",
      "source": [
        "! mkdir ~/.kaggle\n",
        "!cp /content/drive/MyDrive/kaggle.json ~/.kaggle/kaggle.json"
      ],
      "metadata": {
        "id": "FW4c0y56ZHJp"
      },
      "execution_count": null,
      "outputs": []
    },
    {
      "cell_type": "code",
      "source": [
        "! kaggle datasets download kmader/skin-cancer-mnist-ham10000"
      ],
      "metadata": {
        "colab": {
          "base_uri": "https://localhost:8080/"
        },
        "id": "k5YOl4JTZxdL",
        "outputId": "3aecab9e-12ca-4c9d-978f-ff1c8ee27f84"
      },
      "execution_count": null,
      "outputs": [
        {
          "output_type": "stream",
          "name": "stdout",
          "text": [
            "Downloading skin-cancer-mnist-ham10000.zip to /content\n",
            "100% 5.18G/5.20G [00:33<00:00, 198MB/s]\n",
            "100% 5.20G/5.20G [00:33<00:00, 167MB/s]\n"
          ]
        }
      ]
    },
    {
      "cell_type": "code",
      "source": [
        "! unzip skin-cancer-mnist-ham10000.zip"
      ],
      "metadata": {
        "id": "Z2bKqKMVZxf0"
      },
      "execution_count": null,
      "outputs": []
    },
    {
      "cell_type": "markdown",
      "source": [
        "# **3. Test Dataset**"
      ],
      "metadata": {
        "id": "YuQBeibyZHTv"
      }
    },
    {
      "cell_type": "code",
      "source": [
        "# to be applied to training data\n",
        "train_transforms = transforms.Compose([\n",
        "    transforms.Resize((224, 224)),\n",
        "    transforms.RandomHorizontalFlip(),\n",
        "    transforms.RandomVerticalFlip(),\n",
        "    transforms.RandomRotation(degrees=20),\n",
        "    transforms.ToTensor(),\n",
        "    transforms.Normalize(torch.Tensor([0.5, 0.5, 0.5]), torch.Tensor([0.5, 0.5, 0.5]))\n",
        "])\n",
        "# to be applied to validation and test data\n",
        "test_transforms = transforms.Compose([\n",
        "    transforms.Resize((224, 224)),\n",
        "    transforms.ToTensor(),\n",
        "    transforms.Normalize(torch.Tensor([0.5, 0.5, 0.5]), torch.Tensor([0.5, 0.5, 0.5]))\n",
        "])"
      ],
      "metadata": {
        "id": "2ahGMwNvZHeE"
      },
      "execution_count": null,
      "outputs": []
    },
    {
      "cell_type": "code",
      "source": [
        "dataframe = map_images_to_paths()"
      ],
      "metadata": {
        "id": "Za4hQ0wfZ_Ss"
      },
      "execution_count": null,
      "outputs": []
    },
    {
      "cell_type": "code",
      "source": [
        "train_dataset, validation_dataset, test_dataset= create_datasets(dataframe = dataframe,\n",
        "                                                                 train_transforms = train_transforms,\n",
        "                                                                 test_transforms = test_transforms)"
      ],
      "metadata": {
        "colab": {
          "base_uri": "https://localhost:8080/"
        },
        "id": "f6f9J79PZ_Zu",
        "outputId": "98734dda-1fbf-4f3a-d33e-a130272544c7"
      },
      "execution_count": null,
      "outputs": [
        {
          "output_type": "stream",
          "name": "stdout",
          "text": [
            "No lesion overlap among training, validation and test datasets!\n",
            "All images succesfully distributed in the training, validation and test datasets!\n"
          ]
        }
      ]
    },
    {
      "cell_type": "code",
      "source": [
        "# do not need them in this notebook\n",
        "import shutil\n",
        "shutil.rmtree('./training_dataset')\n",
        "shutil.rmtree('./validation_dataset')"
      ],
      "metadata": {
        "id": "wMEWREMlZ_cX"
      },
      "execution_count": null,
      "outputs": []
    },
    {
      "cell_type": "markdown",
      "source": [
        "# **4. ResNet50**"
      ],
      "metadata": {
        "id": "7AlLiiZXZROX"
      }
    },
    {
      "cell_type": "code",
      "source": [
        "drive_path = './drive/MyDrive/Colab_Notebooks/dataset_models/HAM10000/Models/'\n",
        "resnet50 = torch.load(drive_path + 'ham10k_resnet50.pt')\n",
        "resnet50 = resnet50.cuda()\n",
        "resnet50 = resnet50.eval()"
      ],
      "metadata": {
        "id": "7ZoY6N9kZUzR"
      },
      "execution_count": null,
      "outputs": []
    },
    {
      "cell_type": "code",
      "source": [
        "resnet50_gradcam_instance = GradCAM(model=resnet50, target_layers=[resnet50.layer4[2].conv3], use_cuda=True)\n",
        "resnet50_hirescam_instance = HiResCAM(model=resnet50, target_layers=[resnet50.layer4[2].conv3], use_cuda=True)\n",
        "\n",
        "print('-->GradCAM')\n",
        "gradcam_score, _, _, _ = Haas(test_dataset, resnet50, resnet50_gradcam_instance)\n",
        "print('HAAS score:', gradcam_score)\n",
        "print('---------------------------')\n",
        "print('-->HiResCAM')\n",
        "hirescam_score, _, _, _ = Haas(test_dataset, resnet50, resnet50_hirescam_instance)\n",
        "print('HAAS score:', hirescam_score)"
      ],
      "metadata": {
        "colab": {
          "base_uri": "https://localhost:8080/"
        },
        "id": "zXMhk_FYaU9o",
        "outputId": "5f769bd4-fc96-4bfb-bd69-2bf02dc44717"
      },
      "execution_count": null,
      "outputs": [
        {
          "output_type": "stream",
          "name": "stdout",
          "text": [
            "-->GradCAM\n",
            "No. of test images:  1992\n",
            "Total time: 117.77222919464111 secs\n",
            "Accuracy over original images:  0.705\n",
            "Accuracy over HA images:  0.586\n",
            "HAAS score: 0.831\n",
            "---------------------------\n",
            "-->HiResCAM\n",
            "No. of test images:  1992\n",
            "Total time: 113.22008562088013 secs\n",
            "Accuracy over original images:  0.705\n",
            "Accuracy over HA images:  0.585\n",
            "HAAS score: 0.83\n"
          ]
        }
      ]
    }
  ]
}