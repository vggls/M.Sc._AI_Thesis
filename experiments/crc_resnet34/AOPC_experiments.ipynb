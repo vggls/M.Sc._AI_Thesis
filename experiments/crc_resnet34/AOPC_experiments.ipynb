{
  "cells": [
    {
      "cell_type": "markdown",
      "metadata": {
        "id": "view-in-github",
        "colab_type": "text"
      },
      "source": [
        "<a href=\"https://colab.research.google.com/github/vggls/msc_thesis_medical_xai/blob/main/experiments/crc_resnet34/AOPC_experiments.ipynb\" target=\"_parent\"><img src=\"https://colab.research.google.com/assets/colab-badge.svg\" alt=\"Open In Colab\"/></a>"
      ]
    },
    {
      "cell_type": "markdown",
      "metadata": {
        "id": "J80QyIeXwSqg"
      },
      "source": [
        "# **1. Imports**"
      ]
    },
    {
      "cell_type": "code",
      "execution_count": null,
      "metadata": {
        "id": "dmKnCRxI3MrQ"
      },
      "outputs": [],
      "source": [
        "pip install grad-cam"
      ]
    },
    {
      "cell_type": "code",
      "execution_count": null,
      "metadata": {
        "id": "qxBT2qoNHV7e"
      },
      "outputs": [],
      "source": [
        "import os\n",
        "from PIL import Image\n",
        "import matplotlib.pyplot as plt\n",
        "import plotly.graph_objects as go\n",
        "import pandas as pd\n",
        "import numpy as np\n",
        "import shutil\n",
        "import random\n",
        "import pickle\n",
        "\n",
        "import torch\n",
        "from torchvision  import datasets, transforms\n",
        "from torch import nn\n",
        "from torch.utils.data import DataLoader\n",
        "\n",
        "from pytorch_grad_cam import GradCAM, HiResCAM"
      ]
    },
    {
      "cell_type": "code",
      "execution_count": null,
      "metadata": {
        "id": "dxzFgtN5pcvv"
      },
      "outputs": [],
      "source": [
        "# custom written code\n",
        "from morf import MoRF, AOPC_Dataset, plot_aopc_per_step\n",
        "from heatmap import Heatmap"
      ]
    },
    {
      "cell_type": "code",
      "execution_count": null,
      "metadata": {
        "colab": {
          "base_uri": "https://localhost:8080/"
        },
        "id": "QWXT6yy79tRa",
        "outputId": "2c0b5614-6b93-481c-c249-1451411f0ddf"
      },
      "outputs": [
        {
          "output_type": "stream",
          "name": "stdout",
          "text": [
            "Mounted at /content/drive\n"
          ]
        }
      ],
      "source": [
        "from google.colab import drive\n",
        "drive.mount('/content/drive')"
      ]
    },
    {
      "cell_type": "markdown",
      "metadata": {
        "id": "FN2rORbkwW-O"
      },
      "source": [
        "# **2. Load .zip test data file from Google Drive and unzip it**"
      ]
    },
    {
      "cell_type": "code",
      "execution_count": null,
      "metadata": {
        "id": "X5sMhGuJ91Io"
      },
      "outputs": [],
      "source": [
        "!unzip \"./drive/My Drive/Datasets/CRC/CRC-VAL-HE-7K.zip\" # test set 7K"
      ]
    },
    {
      "cell_type": "markdown",
      "metadata": {
        "id": "j75nS3JMwlBA"
      },
      "source": [
        "# **3. Test dataset**"
      ]
    },
    {
      "cell_type": "code",
      "execution_count": null,
      "metadata": {
        "id": "9eB3IyPgqwYS"
      },
      "outputs": [],
      "source": [
        "# to be applied to validation and test data\n",
        "test_transforms = transforms.Compose([\n",
        "    transforms.Resize((224, 224)),\n",
        "    transforms.ToTensor(),\n",
        "    transforms.Normalize(torch.Tensor([0.5, 0.5, 0.5]), torch.Tensor([0.5, 0.5, 0.5]))\n",
        "])"
      ]
    },
    {
      "cell_type": "code",
      "execution_count": null,
      "metadata": {
        "id": "GC89vEwRO5iP"
      },
      "outputs": [],
      "source": [
        "test_path = './CRC-VAL-HE-7K/'\n",
        "test_dataset = datasets.ImageFolder(root=test_path, transform=test_transforms)"
      ]
    },
    {
      "cell_type": "markdown",
      "metadata": {
        "id": "bqDms25r2PGD"
      },
      "source": [
        "# **4. Load model**"
      ]
    },
    {
      "cell_type": "code",
      "execution_count": null,
      "metadata": {
        "id": "jrI_OB8mUHAZ"
      },
      "outputs": [],
      "source": [
        "model_path = './drive/MyDrive/Colab_Notebooks/dataset_models/CRC/Models/'\n",
        "resnet34 = torch.load(model_path + 'crc_resnet34.pt')"
      ]
    },
    {
      "cell_type": "code",
      "execution_count": null,
      "metadata": {
        "id": "iz5swrhHUewu"
      },
      "outputs": [],
      "source": [
        "resnet34 = resnet34.cuda()\n",
        "resnet34 = resnet34.eval()"
      ]
    },
    {
      "cell_type": "markdown",
      "metadata": {
        "id": "qADJttQe31N2"
      },
      "source": [
        "# **5. Experiment function**"
      ]
    },
    {
      "cell_type": "code",
      "execution_count": null,
      "metadata": {
        "id": "V09izbvIMkmF"
      },
      "outputs": [],
      "source": [
        "def run_experiment(region_size, labels, xai):\n",
        "\n",
        "    assert xai in ['gradcam', 'hirescam']\n",
        "\n",
        "    if xai == 'gradcam':\n",
        "      cam_instance = GradCAM(model=resnet34, target_layers=[resnet34.layer4[2].conv2], use_cuda=True)\n",
        "    elif xai == 'hirescam':\n",
        "      cam_instance = HiResCAM(model=resnet34, target_layers=[resnet34.layer4[2].conv2], use_cuda=True)\n",
        "\n",
        "    print('region_size:{}*{} - labels:{}'.format(region_size, region_size, labels))\n",
        "\n",
        "    dataset = [(img, label) for (img, label) in test_dataset if (label in labels)]\n",
        "    diffs, img_scores, aopc_score = AOPC_Dataset(dataset = dataset,\n",
        "                                                 model = resnet34,\n",
        "                                                 region_size = region_size,\n",
        "                                                 cam_instance = cam_instance)\n",
        "\n",
        "    drive_path = './drive/MyDrive/Colab_Notebooks/dataset_models/CRC/AOPC/exp_ResNet34/'\n",
        "\n",
        "    if xai == 'gradcam':\n",
        "      with open(drive_path + 'aopc_resnet34_gradcam_diffs_region-size:{}_labels:{}.pickle'.format(region_size, labels), 'wb') as f: pickle.dump(diffs, f)\n",
        "      with open(drive_path + 'aopc_resnet34_gradcam_scores_region-size:{}_labels:{}.pickle'.format(region_size, labels), 'wb') as f: pickle.dump(img_scores, f)\n",
        "    elif xai == 'hirescam':\n",
        "      with open(drive_path + 'aopc_resnet34_hirescam_diffs_region-size:{}_labels:{}.pickle'.format(region_size, labels), 'wb') as f: pickle.dump(diffs, f)\n",
        "      with open(drive_path + 'aopc_resnet34_hirescam_scores_region-size:{}_labels:{}.pickle'.format(region_size, labels), 'wb') as f: pickle.dump(img_scores, f)\n",
        "\n",
        "    return aopc_score"
      ]
    },
    {
      "cell_type": "markdown",
      "metadata": {
        "id": "cRSkHHTa1-Z4"
      },
      "source": [
        "# **6. GradCAM**"
      ]
    },
    {
      "cell_type": "markdown",
      "metadata": {
        "id": "AGVF_HjGA4fq"
      },
      "source": [
        "## **region size 16*16** (heatmap 14*14)"
      ]
    },
    {
      "cell_type": "code",
      "source": [
        "score = run_experiment(region_size=16, labels=[0,1,2], xai='gradcam')"
      ],
      "metadata": {
        "id": "KCJCFS0KPuIv",
        "colab": {
          "base_uri": "https://localhost:8080/"
        },
        "outputId": "11498f49-aa60-4028-81aa-258501d7b5f3"
      },
      "execution_count": null,
      "outputs": [
        {
          "output_type": "stream",
          "name": "stdout",
          "text": [
            "region_size:16*16 - labels:[0, 1, 2]\n",
            "Total time: 3063.832291126251 secs\n",
            "No of correctly classified images: 2234/2524\n",
            "Avg secs per image:  1.37\n"
          ]
        }
      ]
    },
    {
      "cell_type": "code",
      "source": [
        "score"
      ],
      "metadata": {
        "id": "TG68SgDCPuKa",
        "colab": {
          "base_uri": "https://localhost:8080/"
        },
        "outputId": "7926e9e7-73d6-4499-99a7-282e541eb368"
      },
      "execution_count": null,
      "outputs": [
        {
          "output_type": "execute_result",
          "data": {
            "text/plain": [
              "0.492"
            ]
          },
          "metadata": {},
          "execution_count": 13
        }
      ]
    },
    {
      "cell_type": "code",
      "source": [
        "score = run_experiment(region_size=16, labels=[3,4,5], xai='gradcam')"
      ],
      "metadata": {
        "id": "mwjF0RRmPuM1",
        "colab": {
          "base_uri": "https://localhost:8080/"
        },
        "outputId": "69a12c80-3346-4149-f0d8-04007d018ce8"
      },
      "execution_count": null,
      "outputs": [
        {
          "output_type": "stream",
          "name": "stdout",
          "text": [
            "region_size:16*16 - labels:[3, 4, 5]\n",
            "Total time: 2989.4520213603973 secs\n",
            "No of correctly classified images: 2155/2261\n",
            "Avg secs per image:  1.39\n"
          ]
        }
      ]
    },
    {
      "cell_type": "code",
      "source": [
        "score"
      ],
      "metadata": {
        "id": "7GgpoR29PuQ0",
        "colab": {
          "base_uri": "https://localhost:8080/"
        },
        "outputId": "85ce9e78-94be-45c2-b3ce-f9760f0b7c99"
      },
      "execution_count": null,
      "outputs": [
        {
          "output_type": "execute_result",
          "data": {
            "text/plain": [
              "0.57"
            ]
          },
          "metadata": {},
          "execution_count": 15
        }
      ]
    },
    {
      "cell_type": "code",
      "source": [
        "score = run_experiment(region_size=16, labels=[6,7,8], xai='gradcam')"
      ],
      "metadata": {
        "colab": {
          "base_uri": "https://localhost:8080/"
        },
        "id": "0hV96CmvrN9Q",
        "outputId": "6b37759c-d4c1-4047-9438-f3b4592490c9"
      },
      "execution_count": null,
      "outputs": [
        {
          "output_type": "stream",
          "name": "stdout",
          "text": [
            "region_size:16*16 - labels:[6, 7, 8]\n",
            "Total time: 3095.3397443294525 secs\n",
            "No of correctly classified images: 2180/2395\n",
            "Avg secs per image:  1.42\n"
          ]
        }
      ]
    },
    {
      "cell_type": "code",
      "source": [
        "score"
      ],
      "metadata": {
        "colab": {
          "base_uri": "https://localhost:8080/"
        },
        "id": "iuqu8fvnrOAL",
        "outputId": "70cad568-f48b-4bf8-bd97-43cde96c0b1f"
      },
      "execution_count": null,
      "outputs": [
        {
          "output_type": "execute_result",
          "data": {
            "text/plain": [
              "0.673"
            ]
          },
          "metadata": {},
          "execution_count": 10
        }
      ]
    },
    {
      "cell_type": "markdown",
      "source": [
        "## **region size 21*21** (heatmap 11*11)"
      ],
      "metadata": {
        "id": "ABprKmaSniYJ"
      }
    },
    {
      "cell_type": "code",
      "source": [
        "score = run_experiment(region_size=21, labels=[0,1,2,3], xai='gradcam')"
      ],
      "metadata": {
        "colab": {
          "base_uri": "https://localhost:8080/"
        },
        "id": "oT-67gIKnk11",
        "outputId": "8e57671d-19c1-4047-e41e-f0ea2d5fbc07"
      },
      "execution_count": null,
      "outputs": [
        {
          "output_type": "stream",
          "name": "stdout",
          "text": [
            "region_size:21*21 - labels:[0, 1, 2, 3]\n",
            "Total time: 2521.904171705246 secs\n",
            "No of correctly classified images: 2858/3158\n",
            "Avg secs per image:  0.88\n"
          ]
        }
      ]
    },
    {
      "cell_type": "code",
      "source": [
        "score"
      ],
      "metadata": {
        "colab": {
          "base_uri": "https://localhost:8080/"
        },
        "id": "zZBnXF0Wnk3h",
        "outputId": "aeb06c02-d4c4-4313-9ede-86c3b5d68e80"
      },
      "execution_count": null,
      "outputs": [
        {
          "output_type": "execute_result",
          "data": {
            "text/plain": [
              "0.553"
            ]
          },
          "metadata": {},
          "execution_count": 10
        }
      ]
    },
    {
      "cell_type": "code",
      "source": [
        "score = run_experiment(region_size=21, labels=[4,5,6,7,8], xai='gradcam')"
      ],
      "metadata": {
        "colab": {
          "base_uri": "https://localhost:8080/"
        },
        "id": "UT6_JTKLnk6c",
        "outputId": "84b3aaa5-c5e0-498e-fd2f-462b98f6cffa"
      },
      "execution_count": null,
      "outputs": [
        {
          "output_type": "stream",
          "name": "stdout",
          "text": [
            "region_size:21*21 - labels:[4, 5, 6, 7, 8]\n",
            "Total time: 3267.3921921253204 secs\n",
            "No of correctly classified images: 3711/4022\n",
            "Avg secs per image:  0.88\n"
          ]
        }
      ]
    },
    {
      "cell_type": "code",
      "source": [
        "score"
      ],
      "metadata": {
        "colab": {
          "base_uri": "https://localhost:8080/"
        },
        "id": "2YTejCHnnk-j",
        "outputId": "60c8fc47-02ed-4883-8978-0a1b47c382ac"
      },
      "execution_count": null,
      "outputs": [
        {
          "output_type": "execute_result",
          "data": {
            "text/plain": [
              "0.633"
            ]
          },
          "metadata": {},
          "execution_count": 12
        }
      ]
    },
    {
      "cell_type": "markdown",
      "metadata": {
        "id": "SQCzopgOAu8x"
      },
      "source": [
        "## **region size 28*28** (heatmap 8*8)"
      ]
    },
    {
      "cell_type": "code",
      "execution_count": null,
      "metadata": {
        "id": "g3bk9-iWMswR",
        "colab": {
          "base_uri": "https://localhost:8080/"
        },
        "outputId": "a65b369d-ebb8-45c6-93c5-e1c207b63aa0"
      },
      "outputs": [
        {
          "output_type": "stream",
          "name": "stdout",
          "text": [
            "region_size:28*28 - labels:[0, 1, 2, 3]\n",
            "Total time: 1496.1799278259277 secs\n",
            "No of correctly classified images: 2858/3158\n",
            "Avg secs per image:  0.52\n"
          ]
        }
      ],
      "source": [
        "score = run_experiment(region_size=28, labels=[0,1,2,3], xai='gradcam')"
      ]
    },
    {
      "cell_type": "code",
      "execution_count": null,
      "metadata": {
        "id": "zNAytDWzPrM8",
        "colab": {
          "base_uri": "https://localhost:8080/"
        },
        "outputId": "6b807aab-0611-41c4-f38f-2bbfba537b90"
      },
      "outputs": [
        {
          "output_type": "execute_result",
          "data": {
            "text/plain": [
              "0.543"
            ]
          },
          "metadata": {},
          "execution_count": 13
        }
      ],
      "source": [
        "score"
      ]
    },
    {
      "cell_type": "code",
      "execution_count": null,
      "metadata": {
        "id": "ossKTNAsE1ZP",
        "colab": {
          "base_uri": "https://localhost:8080/"
        },
        "outputId": "b1ad4e12-e555-4ce0-d682-78f382234906"
      },
      "outputs": [
        {
          "output_type": "stream",
          "name": "stdout",
          "text": [
            "region_size:28*28 - labels:[4, 5, 6, 7, 8]\n",
            "Total time: 1928.724651813507 secs\n",
            "No of correctly classified images: 3711/4022\n",
            "Avg secs per image:  0.52\n"
          ]
        }
      ],
      "source": [
        "score = run_experiment(region_size=28, labels=[4,5,6,7,8], xai='gradcam')"
      ]
    },
    {
      "cell_type": "code",
      "execution_count": null,
      "metadata": {
        "id": "veRO9VBUPxE7",
        "colab": {
          "base_uri": "https://localhost:8080/"
        },
        "outputId": "94847901-a2ce-45ce-9ec1-c77478e1e412"
      },
      "outputs": [
        {
          "output_type": "execute_result",
          "data": {
            "text/plain": [
              "0.622"
            ]
          },
          "metadata": {},
          "execution_count": 15
        }
      ],
      "source": [
        "score"
      ]
    },
    {
      "cell_type": "markdown",
      "source": [
        "## **region size 56*56** (heatmap 4*4)"
      ],
      "metadata": {
        "id": "WfBEeddWKO7x"
      }
    },
    {
      "cell_type": "code",
      "source": [
        "score = run_experiment(region_size=56, labels=[0,1,2,3,4,5,6,7,8], xai='gradcam')"
      ],
      "metadata": {
        "colab": {
          "base_uri": "https://localhost:8080/"
        },
        "id": "JsnZD8yKKPOZ",
        "outputId": "40948d71-1910-4838-ae10-3fe58396f17c"
      },
      "execution_count": null,
      "outputs": [
        {
          "output_type": "stream",
          "name": "stdout",
          "text": [
            "region_size:56*56 - labels:[0, 1, 2, 3, 4, 5, 6, 7, 8]\n",
            "Total time: 1439.0757279396057 secs\n",
            "No of correctly classified images: 6569/7180\n",
            "Avg secs per image:  0.22\n"
          ]
        }
      ]
    },
    {
      "cell_type": "code",
      "source": [
        "score"
      ],
      "metadata": {
        "colab": {
          "base_uri": "https://localhost:8080/"
        },
        "id": "18rEOB5jKPRO",
        "outputId": "adaa64e3-eac0-4a48-9dca-f1ccc1565527"
      },
      "execution_count": null,
      "outputs": [
        {
          "output_type": "execute_result",
          "data": {
            "text/plain": [
              "0.573"
            ]
          },
          "metadata": {},
          "execution_count": 32
        }
      ]
    },
    {
      "cell_type": "markdown",
      "metadata": {
        "id": "2x-Nhldp9OTv"
      },
      "source": [
        "# **7. HiResCAM**"
      ]
    },
    {
      "cell_type": "markdown",
      "metadata": {
        "id": "ADYBacGCHBUf"
      },
      "source": [
        "## **region size 16*16** (heatmap 14*14)"
      ]
    },
    {
      "cell_type": "code",
      "source": [
        "score = run_experiment(region_size=16, labels=[0,1,2], xai='hirescam')"
      ],
      "metadata": {
        "id": "aFhS5695Otzg",
        "colab": {
          "base_uri": "https://localhost:8080/"
        },
        "outputId": "54311a71-f227-4085-ee9d-0fbae5016af5"
      },
      "execution_count": null,
      "outputs": [
        {
          "output_type": "stream",
          "name": "stdout",
          "text": [
            "region_size:16*16 - labels:[0, 1, 2]\n",
            "Total time: 3041.5002291202545 secs\n",
            "No of correctly classified images: 2234/2524\n",
            "Avg secs per image:  1.36\n"
          ]
        }
      ]
    },
    {
      "cell_type": "code",
      "source": [
        "score"
      ],
      "metadata": {
        "id": "ZK9ZiqKQOt2Q",
        "colab": {
          "base_uri": "https://localhost:8080/"
        },
        "outputId": "e1d62f31-e3a2-4a1b-bd32-30376d810d41"
      },
      "execution_count": null,
      "outputs": [
        {
          "output_type": "execute_result",
          "data": {
            "text/plain": [
              "0.49"
            ]
          },
          "metadata": {},
          "execution_count": 17
        }
      ]
    },
    {
      "cell_type": "code",
      "source": [
        "score = run_experiment(region_size=16, labels=[3,4,5], xai='hirescam')"
      ],
      "metadata": {
        "id": "28H4R1nDOt5U",
        "colab": {
          "base_uri": "https://localhost:8080/"
        },
        "outputId": "0bea106b-abab-462d-8b3d-e7f83663a032"
      },
      "execution_count": null,
      "outputs": [
        {
          "output_type": "stream",
          "name": "stdout",
          "text": [
            "region_size:16*16 - labels:[3, 4, 5]\n",
            "Total time: 2947.0925047397614 secs\n",
            "No of correctly classified images: 2155/2261\n",
            "Avg secs per image:  1.37\n"
          ]
        }
      ]
    },
    {
      "cell_type": "code",
      "source": [
        "score"
      ],
      "metadata": {
        "id": "vYW-4qWwOt7z",
        "colab": {
          "base_uri": "https://localhost:8080/"
        },
        "outputId": "4c7be35e-d2b2-49fa-d054-9e3bc46367ee"
      },
      "execution_count": null,
      "outputs": [
        {
          "output_type": "execute_result",
          "data": {
            "text/plain": [
              "0.623"
            ]
          },
          "metadata": {},
          "execution_count": 19
        }
      ]
    },
    {
      "cell_type": "code",
      "source": [
        "score = run_experiment(region_size=16, labels=[6,7,8], xai='hirescam')"
      ],
      "metadata": {
        "id": "QiXBgafsOt-U",
        "colab": {
          "base_uri": "https://localhost:8080/"
        },
        "outputId": "a4ffb218-a99f-4d8e-8a0b-c0cb20b6ed72"
      },
      "execution_count": null,
      "outputs": [
        {
          "output_type": "stream",
          "name": "stdout",
          "text": [
            "region_size:16*16 - labels:[6, 7, 8]\n",
            "Total time: 2968.037647008896 secs\n",
            "No of correctly classified images: 2180/2395\n",
            "Avg secs per image:  1.36\n"
          ]
        }
      ]
    },
    {
      "cell_type": "code",
      "source": [
        "score"
      ],
      "metadata": {
        "id": "AOYRGwjROuCZ",
        "colab": {
          "base_uri": "https://localhost:8080/"
        },
        "outputId": "a29a8022-4b4e-4ba2-ec1e-5da80ec5a3ce"
      },
      "execution_count": null,
      "outputs": [
        {
          "output_type": "execute_result",
          "data": {
            "text/plain": [
              "0.686"
            ]
          },
          "metadata": {},
          "execution_count": 21
        }
      ]
    },
    {
      "cell_type": "markdown",
      "source": [
        "## **region size 21*21** (heatmap 11*11)"
      ],
      "metadata": {
        "id": "j7IXVRB2n5qb"
      }
    },
    {
      "cell_type": "code",
      "source": [
        "score = run_experiment(region_size=21, labels=[0,1,2,3], xai='hirescam')"
      ],
      "metadata": {
        "colab": {
          "base_uri": "https://localhost:8080/"
        },
        "id": "tDxTHPXgn52a",
        "outputId": "265b96ee-a87b-452a-a9f4-25d0ffc7dc17"
      },
      "execution_count": null,
      "outputs": [
        {
          "output_type": "stream",
          "name": "stdout",
          "text": [
            "region_size:21*21 - labels:[0, 1, 2, 3]\n",
            "Total time: 2504.9410943984985 secs\n",
            "No of correctly classified images: 2858/3158\n",
            "Avg secs per image:  0.88\n"
          ]
        }
      ]
    },
    {
      "cell_type": "code",
      "source": [
        "score"
      ],
      "metadata": {
        "colab": {
          "base_uri": "https://localhost:8080/"
        },
        "id": "nQgyOFoNn539",
        "outputId": "8eadf197-6f33-4cfa-bd26-7db23163609f"
      },
      "execution_count": null,
      "outputs": [
        {
          "output_type": "execute_result",
          "data": {
            "text/plain": [
              "0.549"
            ]
          },
          "metadata": {},
          "execution_count": 14
        }
      ]
    },
    {
      "cell_type": "code",
      "source": [
        "score = run_experiment(region_size=21, labels=[4,5,6,7,8], xai='hirescam')"
      ],
      "metadata": {
        "colab": {
          "base_uri": "https://localhost:8080/"
        },
        "id": "SlmOOWjnn553",
        "outputId": "8a6c787c-2808-489a-8ad2-387cd1038180"
      },
      "execution_count": null,
      "outputs": [
        {
          "output_type": "stream",
          "name": "stdout",
          "text": [
            "region_size:21*21 - labels:[4, 5, 6, 7, 8]\n",
            "Total time: 3257.324284553528 secs\n",
            "No of correctly classified images: 3711/4022\n",
            "Avg secs per image:  0.88\n"
          ]
        }
      ]
    },
    {
      "cell_type": "code",
      "source": [
        "score"
      ],
      "metadata": {
        "colab": {
          "base_uri": "https://localhost:8080/"
        },
        "id": "QWfInTXMJBkj",
        "outputId": "155fe052-4d4a-43c0-e195-b818ded0f047"
      },
      "execution_count": null,
      "outputs": [
        {
          "output_type": "execute_result",
          "data": {
            "text/plain": [
              "0.639"
            ]
          },
          "metadata": {},
          "execution_count": 16
        }
      ]
    },
    {
      "cell_type": "markdown",
      "metadata": {
        "id": "gS6Lz_zPA11c"
      },
      "source": [
        "## **region size 28*28** (heatmap 8*8)"
      ]
    },
    {
      "cell_type": "code",
      "execution_count": null,
      "metadata": {
        "id": "ToWc3XI2E1hb",
        "colab": {
          "base_uri": "https://localhost:8080/"
        },
        "outputId": "5d4ce607-8c0b-4770-f11d-49bf387aee5a"
      },
      "outputs": [
        {
          "output_type": "stream",
          "name": "stdout",
          "text": [
            "region_size:28*28 - labels:[0, 1, 2, 3]\n",
            "Total time: 1483.9456629753113 secs\n",
            "No of correctly classified images: 2858/3158\n",
            "Avg secs per image:  0.52\n"
          ]
        }
      ],
      "source": [
        "score = run_experiment(region_size=28, labels=[0,1,2,3], xai='hirescam')"
      ]
    },
    {
      "cell_type": "code",
      "execution_count": null,
      "metadata": {
        "id": "ibkbPRgcWzmk",
        "colab": {
          "base_uri": "https://localhost:8080/"
        },
        "outputId": "983fd446-149e-4c80-918a-9c667d2c42ee"
      },
      "outputs": [
        {
          "output_type": "execute_result",
          "data": {
            "text/plain": [
              "0.538"
            ]
          },
          "metadata": {},
          "execution_count": 26
        }
      ],
      "source": [
        "score"
      ]
    },
    {
      "cell_type": "code",
      "execution_count": null,
      "metadata": {
        "id": "GMhM0zZRSk7o",
        "colab": {
          "base_uri": "https://localhost:8080/"
        },
        "outputId": "8ad5901f-0889-4256-fe1a-795364bb772f"
      },
      "outputs": [
        {
          "output_type": "stream",
          "name": "stdout",
          "text": [
            "region_size:28*28 - labels:[4, 5, 6, 7, 8]\n",
            "Total time: 1922.5265364646912 secs\n",
            "No of correctly classified images: 3711/4022\n",
            "Avg secs per image:  0.52\n"
          ]
        }
      ],
      "source": [
        "score = run_experiment(region_size=28, labels=[4,5,6,7,8], xai='hirescam')"
      ]
    },
    {
      "cell_type": "code",
      "execution_count": null,
      "metadata": {
        "id": "rV1qgS3fWy3H",
        "colab": {
          "base_uri": "https://localhost:8080/"
        },
        "outputId": "4dc8f776-79b0-4e56-c825-dae6878bdd19"
      },
      "outputs": [
        {
          "output_type": "execute_result",
          "data": {
            "text/plain": [
              "0.629"
            ]
          },
          "metadata": {},
          "execution_count": 28
        }
      ],
      "source": [
        "score"
      ]
    },
    {
      "cell_type": "markdown",
      "source": [
        "## **region size 56*56** (heatmap 4*4)"
      ],
      "metadata": {
        "id": "dNVe6VviKCBO"
      }
    },
    {
      "cell_type": "code",
      "source": [
        "score = run_experiment(region_size=56, labels=[0,1,2,3,4,5,6,7,8], xai='hirescam')"
      ],
      "metadata": {
        "colab": {
          "base_uri": "https://localhost:8080/"
        },
        "id": "AbxGTLIGKCNM",
        "outputId": "92facc04-e441-4e58-d0c2-bdb576740976"
      },
      "execution_count": null,
      "outputs": [
        {
          "metadata": {
            "tags": null
          },
          "name": "stdout",
          "output_type": "stream",
          "text": [
            "region_size:56*56 - labels:[0, 1, 2, 3, 4, 5, 6, 7, 8]\n",
            "Total time: 1424.644147157669 secs\n",
            "No of correctly classified images: 6569/7180\n",
            "Avg secs per image:  0.22\n"
          ]
        }
      ]
    },
    {
      "cell_type": "code",
      "source": [
        "score"
      ],
      "metadata": {
        "colab": {
          "base_uri": "https://localhost:8080/"
        },
        "id": "Hdgm7SBnKBb7",
        "outputId": "26b46e70-39de-4c52-a0f5-0a70ef26c876"
      },
      "execution_count": null,
      "outputs": [
        {
          "output_type": "execute_result",
          "data": {
            "text/plain": [
              "0.572"
            ]
          },
          "metadata": {},
          "execution_count": 30
        }
      ]
    }
  ],
  "metadata": {
    "accelerator": "GPU",
    "colab": {
      "machine_shape": "hm",
      "provenance": [],
      "collapsed_sections": [
        "J80QyIeXwSqg",
        "FN2rORbkwW-O",
        "j75nS3JMwlBA",
        "bqDms25r2PGD",
        "qADJttQe31N2",
        "cRSkHHTa1-Z4",
        "AGVF_HjGA4fq",
        "ABprKmaSniYJ",
        "SQCzopgOAu8x",
        "WfBEeddWKO7x",
        "2x-Nhldp9OTv",
        "ADYBacGCHBUf",
        "j7IXVRB2n5qb",
        "gS6Lz_zPA11c",
        "dNVe6VviKCBO"
      ],
      "include_colab_link": true
    },
    "gpuClass": "standard",
    "kernelspec": {
      "display_name": "Python 3",
      "name": "python3"
    },
    "language_info": {
      "name": "python"
    }
  },
  "nbformat": 4,
  "nbformat_minor": 0
}