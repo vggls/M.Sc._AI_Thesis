{
  "cells": [
    {
      "cell_type": "markdown",
      "metadata": {
        "id": "view-in-github",
        "colab_type": "text"
      },
      "source": [
        "<a href=\"https://colab.research.google.com/github/vggls/msc_thesis_medical_xai/blob/main/experiments/crc_resnet34/HAAS_Results.ipynb\" target=\"_parent\"><img src=\"https://colab.research.google.com/assets/colab-badge.svg\" alt=\"Open In Colab\"/></a>"
      ]
    },
    {
      "cell_type": "markdown",
      "metadata": {
        "id": "J80QyIeXwSqg"
      },
      "source": [
        "# **1. Imports**"
      ]
    },
    {
      "cell_type": "code",
      "source": [
        "pip install grad-cam"
      ],
      "metadata": {
        "id": "dmKnCRxI3MrQ"
      },
      "execution_count": null,
      "outputs": []
    },
    {
      "cell_type": "code",
      "execution_count": null,
      "metadata": {
        "id": "qxBT2qoNHV7e"
      },
      "outputs": [],
      "source": [
        "import torch\n",
        "from torchvision  import datasets, transforms\n",
        "from pytorch_grad_cam import GradCAM, HiResCAM"
      ]
    },
    {
      "cell_type": "code",
      "execution_count": null,
      "metadata": {
        "id": "dxzFgtN5pcvv"
      },
      "outputs": [],
      "source": [
        "# custom written code\n",
        "from haas import Haas, HA_image\n",
        "from densenet121 import _DenseNet121_"
      ]
    },
    {
      "cell_type": "code",
      "execution_count": null,
      "metadata": {
        "colab": {
          "base_uri": "https://localhost:8080/"
        },
        "id": "QWXT6yy79tRa",
        "outputId": "155aeb80-9398-405c-d66e-bb9a48ce2f8b"
      },
      "outputs": [
        {
          "output_type": "stream",
          "name": "stdout",
          "text": [
            "Mounted at /content/drive\n"
          ]
        }
      ],
      "source": [
        "from google.colab import drive\n",
        "drive.mount('/content/drive')"
      ]
    },
    {
      "cell_type": "markdown",
      "metadata": {
        "id": "FN2rORbkwW-O"
      },
      "source": [
        "# **2. Load .zip test data file from Google Drive and unzip it**"
      ]
    },
    {
      "cell_type": "code",
      "execution_count": null,
      "metadata": {
        "id": "X5sMhGuJ91Io"
      },
      "outputs": [],
      "source": [
        "!unzip \"./drive/My Drive/Datasets/CRC/CRC-VAL-HE-7K.zip\" # test set 7K"
      ]
    },
    {
      "cell_type": "markdown",
      "metadata": {
        "id": "j75nS3JMwlBA"
      },
      "source": [
        "# **3. Test dataset**"
      ]
    },
    {
      "cell_type": "code",
      "execution_count": null,
      "metadata": {
        "id": "9eB3IyPgqwYS"
      },
      "outputs": [],
      "source": [
        "# to be applied to validation and test data\n",
        "test_transforms = transforms.Compose([\n",
        "    transforms.Resize((224, 224)),\n",
        "    transforms.ToTensor(),\n",
        "    transforms.Normalize(torch.Tensor([0.5, 0.5, 0.5]), torch.Tensor([0.5, 0.5, 0.5]))\n",
        "])"
      ]
    },
    {
      "cell_type": "code",
      "source": [
        "test_path = './CRC-VAL-HE-7K/'\n",
        "test_dataset = datasets.ImageFolder(root=test_path, transform=test_transforms)"
      ],
      "metadata": {
        "id": "GC89vEwRO5iP"
      },
      "execution_count": null,
      "outputs": []
    },
    {
      "cell_type": "markdown",
      "source": [
        "# **4. ResNet34**"
      ],
      "metadata": {
        "id": "bqDms25r2PGD"
      }
    },
    {
      "cell_type": "code",
      "source": [
        "drive_path = './drive/MyDrive/Colab_Notebooks/dataset_models/CRC/Models/'\n",
        "resnet34 = torch.load(drive_path + 'crc_resnet34.pt')\n",
        "resnet34 = resnet34.cuda()\n",
        "resnet34 = resnet34.eval()"
      ],
      "metadata": {
        "id": "LFlzIAYai_Mo"
      },
      "execution_count": null,
      "outputs": []
    },
    {
      "cell_type": "code",
      "source": [
        "resnet34_gradcam_instance = GradCAM(model=resnet34, target_layers=[resnet34.layer4[2].conv2], use_cuda=True)\n",
        "resnet34_hirescam_instance = HiResCAM(model=resnet34, target_layers=[resnet34.layer4[2].conv2], use_cuda=True)"
      ],
      "metadata": {
        "id": "NnJYg53yi_Vx"
      },
      "execution_count": null,
      "outputs": []
    },
    {
      "cell_type": "code",
      "source": [
        "print('-->GradCAM')\n",
        "gradcam_score, _, _, _ = Haas(test_dataset, resnet34, resnet34_gradcam_instance)\n",
        "print('HAAS score:', gradcam_score)\n",
        "print('---------------------------')\n",
        "print('-->HiResCAM')\n",
        "hirescam_score, _, _, _ = Haas(test_dataset, resnet34, resnet34_hirescam_instance)\n",
        "print('HAAS score:', hirescam_score)"
      ],
      "metadata": {
        "id": "BDIvk_AdcOmp",
        "colab": {
          "base_uri": "https://localhost:8080/"
        },
        "outputId": "8af0ef5b-bd31-4fe9-8acd-4acfdcc084f5"
      },
      "execution_count": null,
      "outputs": [
        {
          "output_type": "stream",
          "name": "stdout",
          "text": [
            "-->GradCAM\n",
            "No. of test images:  7180\n",
            "Total time: 216.14896750450134 secs\n",
            "Accuracy over original images:  0.91\n",
            "Accuracy over HA images:  0.43\n",
            "HAAS score: 0.47\n",
            "---------------------------\n",
            "-->HiResCAM\n",
            "No. of test images:  7180\n",
            "Total time: 204.56366395950317 secs\n",
            "Accuracy over original images:  0.91\n",
            "Accuracy over HA images:  0.48\n",
            "HAAS score: 0.53\n"
          ]
        }
      ]
    }
  ],
  "metadata": {
    "accelerator": "GPU",
    "colab": {
      "provenance": [],
      "machine_shape": "hm",
      "collapsed_sections": [
        "J80QyIeXwSqg",
        "FN2rORbkwW-O",
        "j75nS3JMwlBA",
        "bqDms25r2PGD",
        "9aWe_k1P3h_E"
      ],
      "include_colab_link": true
    },
    "gpuClass": "standard",
    "kernelspec": {
      "display_name": "Python 3",
      "name": "python3"
    },
    "language_info": {
      "name": "python"
    }
  },
  "nbformat": 4,
  "nbformat_minor": 0
}