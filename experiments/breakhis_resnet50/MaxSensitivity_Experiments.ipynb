{
  "cells": [
    {
      "cell_type": "markdown",
      "metadata": {
        "id": "view-in-github",
        "colab_type": "text"
      },
      "source": [
        "<a href=\"https://colab.research.google.com/github/vggls/M.Sc._AI_Thesis/blob/main/experiments/breakhis_resnet50/MaxSensitivity_Experiments.ipynb\" target=\"_parent\"><img src=\"https://colab.research.google.com/assets/colab-badge.svg\" alt=\"Open In Colab\"/></a>"
      ]
    },
    {
      "cell_type": "markdown",
      "metadata": {
        "id": "bcypiEPALYMy"
      },
      "source": [
        "# **1. Imports**"
      ]
    },
    {
      "cell_type": "code",
      "source": [
        "pip install grad-cam"
      ],
      "metadata": {
        "id": "20ghPG1X-T4t",
        "colab": {
          "base_uri": "https://localhost:8080/"
        },
        "outputId": "e2130c4b-5738-4bc5-d487-6dc7a90f7989"
      },
      "execution_count": null,
      "outputs": [
        {
          "output_type": "stream",
          "name": "stdout",
          "text": [
            "Looking in indexes: https://pypi.org/simple, https://us-python.pkg.dev/colab-wheels/public/simple/\n",
            "Collecting grad-cam\n",
            "  Downloading grad-cam-1.4.6.tar.gz (7.8 MB)\n",
            "\u001b[2K     \u001b[90m━━━━━━━━━━━━━━━━━━━━━━━━━━━━━━━━━━━━━━━━\u001b[0m \u001b[32m7.8/7.8 MB\u001b[0m \u001b[31m53.3 MB/s\u001b[0m eta \u001b[36m0:00:00\u001b[0m\n",
            "\u001b[?25h  Installing build dependencies ... \u001b[?25l\u001b[?25hdone\n",
            "  Getting requirements to build wheel ... \u001b[?25l\u001b[?25hdone\n",
            "  Preparing metadata (pyproject.toml) ... \u001b[?25l\u001b[?25hdone\n",
            "Requirement already satisfied: numpy in /usr/local/lib/python3.9/dist-packages (from grad-cam) (1.22.4)\n",
            "Requirement already satisfied: torchvision>=0.8.2 in /usr/local/lib/python3.9/dist-packages (from grad-cam) (0.14.1+cu116)\n",
            "Requirement already satisfied: Pillow in /usr/local/lib/python3.9/dist-packages (from grad-cam) (8.4.0)\n",
            "Requirement already satisfied: matplotlib in /usr/local/lib/python3.9/dist-packages (from grad-cam) (3.7.1)\n",
            "Collecting ttach\n",
            "  Downloading ttach-0.0.3-py3-none-any.whl (9.8 kB)\n",
            "Requirement already satisfied: scikit-learn in /usr/local/lib/python3.9/dist-packages (from grad-cam) (1.2.2)\n",
            "Requirement already satisfied: opencv-python in /usr/local/lib/python3.9/dist-packages (from grad-cam) (4.6.0.66)\n",
            "Requirement already satisfied: tqdm in /usr/local/lib/python3.9/dist-packages (from grad-cam) (4.65.0)\n",
            "Requirement already satisfied: torch>=1.7.1 in /usr/local/lib/python3.9/dist-packages (from grad-cam) (1.13.1+cu116)\n",
            "Requirement already satisfied: typing-extensions in /usr/local/lib/python3.9/dist-packages (from torch>=1.7.1->grad-cam) (4.5.0)\n",
            "Requirement already satisfied: requests in /usr/local/lib/python3.9/dist-packages (from torchvision>=0.8.2->grad-cam) (2.27.1)\n",
            "Requirement already satisfied: fonttools>=4.22.0 in /usr/local/lib/python3.9/dist-packages (from matplotlib->grad-cam) (4.39.0)\n",
            "Requirement already satisfied: packaging>=20.0 in /usr/local/lib/python3.9/dist-packages (from matplotlib->grad-cam) (23.0)\n",
            "Requirement already satisfied: pyparsing>=2.3.1 in /usr/local/lib/python3.9/dist-packages (from matplotlib->grad-cam) (3.0.9)\n",
            "Requirement already satisfied: importlib-resources>=3.2.0 in /usr/local/lib/python3.9/dist-packages (from matplotlib->grad-cam) (5.12.0)\n",
            "Requirement already satisfied: python-dateutil>=2.7 in /usr/local/lib/python3.9/dist-packages (from matplotlib->grad-cam) (2.8.2)\n",
            "Requirement already satisfied: contourpy>=1.0.1 in /usr/local/lib/python3.9/dist-packages (from matplotlib->grad-cam) (1.0.7)\n",
            "Requirement already satisfied: cycler>=0.10 in /usr/local/lib/python3.9/dist-packages (from matplotlib->grad-cam) (0.11.0)\n",
            "Requirement already satisfied: kiwisolver>=1.0.1 in /usr/local/lib/python3.9/dist-packages (from matplotlib->grad-cam) (1.4.4)\n",
            "Requirement already satisfied: joblib>=1.1.1 in /usr/local/lib/python3.9/dist-packages (from scikit-learn->grad-cam) (1.1.1)\n",
            "Requirement already satisfied: threadpoolctl>=2.0.0 in /usr/local/lib/python3.9/dist-packages (from scikit-learn->grad-cam) (3.1.0)\n",
            "Requirement already satisfied: scipy>=1.3.2 in /usr/local/lib/python3.9/dist-packages (from scikit-learn->grad-cam) (1.10.1)\n",
            "Requirement already satisfied: zipp>=3.1.0 in /usr/local/lib/python3.9/dist-packages (from importlib-resources>=3.2.0->matplotlib->grad-cam) (3.15.0)\n",
            "Requirement already satisfied: six>=1.5 in /usr/local/lib/python3.9/dist-packages (from python-dateutil>=2.7->matplotlib->grad-cam) (1.15.0)\n",
            "Requirement already satisfied: charset-normalizer~=2.0.0 in /usr/local/lib/python3.9/dist-packages (from requests->torchvision>=0.8.2->grad-cam) (2.0.12)\n",
            "Requirement already satisfied: certifi>=2017.4.17 in /usr/local/lib/python3.9/dist-packages (from requests->torchvision>=0.8.2->grad-cam) (2022.12.7)\n",
            "Requirement already satisfied: idna<4,>=2.5 in /usr/local/lib/python3.9/dist-packages (from requests->torchvision>=0.8.2->grad-cam) (3.4)\n",
            "Requirement already satisfied: urllib3<1.27,>=1.21.1 in /usr/local/lib/python3.9/dist-packages (from requests->torchvision>=0.8.2->grad-cam) (1.26.15)\n",
            "Building wheels for collected packages: grad-cam\n",
            "  Building wheel for grad-cam (pyproject.toml) ... \u001b[?25l\u001b[?25hdone\n",
            "  Created wheel for grad-cam: filename=grad_cam-1.4.6-py3-none-any.whl size=38262 sha256=bc02170ce946beb5eb1857cae166e56d8d9a146d6e3b419b49c0f09ab6d38112\n",
            "  Stored in directory: /root/.cache/pip/wheels/9b/ae/bd/221d138b169c4867b2ae5c893474d0b23bae6e4750bc95bc55\n",
            "Successfully built grad-cam\n",
            "Installing collected packages: ttach, grad-cam\n",
            "Successfully installed grad-cam-1.4.6 ttach-0.0.3\n"
          ]
        }
      ]
    },
    {
      "cell_type": "code",
      "execution_count": null,
      "metadata": {
        "id": "0bOvbQPsObnz"
      },
      "outputs": [],
      "source": [
        "import shutil\n",
        "import pickle\n",
        "\n",
        "import torch\n",
        "from torchvision  import transforms\n",
        "\n",
        "from pytorch_grad_cam import GradCAM, HiResCAM"
      ]
    },
    {
      "cell_type": "code",
      "source": [
        "# custom written code\n",
        "from breakhis_slide_allocation import allocate_slides_to_datasets\n",
        "from breakhis_binary import create_datasets, summaries\n",
        "from max_sensitivity import sample_eps_Inf, get_explanation, get_exp_sens, MaxSensitivity_Dataset, plot_scores_frequency, scores_boxplot"
      ],
      "metadata": {
        "id": "pqqur9Qaqkal"
      },
      "execution_count": null,
      "outputs": []
    },
    {
      "cell_type": "code",
      "execution_count": null,
      "metadata": {
        "colab": {
          "base_uri": "https://localhost:8080/"
        },
        "id": "DqvdLIBMLUNj",
        "outputId": "9176cacf-d48b-48d5-a024-085ab945f48c"
      },
      "outputs": [
        {
          "output_type": "stream",
          "name": "stdout",
          "text": [
            "Mounted at /content/drive\n"
          ]
        }
      ],
      "source": [
        "from google.colab import drive\n",
        "drive.mount('/content/drive')"
      ]
    },
    {
      "cell_type": "markdown",
      "metadata": {
        "id": "oSW0pclko09b"
      },
      "source": [
        "# **2. Download from Kaggle**\n"
      ]
    },
    {
      "cell_type": "code",
      "execution_count": null,
      "metadata": {
        "id": "g0Ron0hQoteJ"
      },
      "outputs": [],
      "source": [
        "! mkdir ~/.kaggle\n",
        "!cp /content/drive/MyDrive/kaggle.json ~/.kaggle/kaggle.json"
      ]
    },
    {
      "cell_type": "code",
      "execution_count": null,
      "metadata": {
        "id": "-drKpPuMotf5",
        "colab": {
          "base_uri": "https://localhost:8080/"
        },
        "outputId": "9670e343-15d8-432c-e3a7-4f1a98dde4af"
      },
      "outputs": [
        {
          "output_type": "stream",
          "name": "stdout",
          "text": [
            "Downloading breakhis.zip to /content\n",
            "100% 3.98G/3.99G [03:28<00:00, 20.9MB/s]\n",
            "100% 3.99G/3.99G [03:28<00:00, 20.5MB/s]\n"
          ]
        }
      ],
      "source": [
        "! kaggle datasets download ambarish/breakhis"
      ]
    },
    {
      "cell_type": "code",
      "execution_count": null,
      "metadata": {
        "id": "BC7x4gPuotie"
      },
      "outputs": [],
      "source": [
        "! unzip breakhis.zip"
      ]
    },
    {
      "cell_type": "markdown",
      "source": [
        "# **3. Test dataset**"
      ],
      "metadata": {
        "id": "Fgu3bQPI-wsk"
      }
    },
    {
      "cell_type": "code",
      "source": [
        "#shutil.rmtree('./test_dataset')"
      ],
      "metadata": {
        "id": "YtNm-T2yznso"
      },
      "execution_count": null,
      "outputs": []
    },
    {
      "cell_type": "code",
      "execution_count": null,
      "metadata": {
        "id": "Bx8UurJqPy1x"
      },
      "outputs": [],
      "source": [
        "train_transforms = transforms.Compose([\n",
        "    transforms.Resize((224, 224)),\n",
        "    transforms.RandomHorizontalFlip(p=0.2),\n",
        "    transforms.RandomVerticalFlip(p=0.2),\n",
        "    transforms.RandomRotation(20),\n",
        "    transforms.ToTensor(),\n",
        "    transforms.Normalize(torch.Tensor([0.5, 0.5, 0.5]), torch.Tensor([0.5, 0.5, 0.5]))\n",
        "])\n",
        "# to be applied to validation and test data\n",
        "test_transforms = transforms.Compose([\n",
        "    transforms.Resize((224, 224)),\n",
        "    transforms.ToTensor(),\n",
        "    transforms.Normalize(torch.Tensor([0.5, 0.5, 0.5]), torch.Tensor([0.5, 0.5, 0.5]))\n",
        "])"
      ]
    },
    {
      "cell_type": "code",
      "source": [
        "training_dataset, validation_dataset, test_dataset = create_datasets(train_transforms, test_transforms)"
      ],
      "metadata": {
        "id": "OSlEVBvd8nHh",
        "colab": {
          "base_uri": "https://localhost:8080/"
        },
        "outputId": "36bc4af5-e6af-4e84-f4da-32cabbfa4dbf"
      },
      "execution_count": null,
      "outputs": [
        {
          "output_type": "stream",
          "name": "stdout",
          "text": [
            "No benign slides overlap in training, validation and test sets!\n",
            "No malignant slides overlap in training, validation and test sets!\n"
          ]
        }
      ]
    },
    {
      "cell_type": "code",
      "source": [
        "# do not need them in this notebook\n",
        "shutil.rmtree('./training_dataset')\n",
        "shutil.rmtree('./validation_dataset')"
      ],
      "metadata": {
        "id": "q2cCalVi-7Q6"
      },
      "execution_count": null,
      "outputs": []
    },
    {
      "cell_type": "markdown",
      "source": [
        "# **4. Load model**"
      ],
      "metadata": {
        "id": "6TsPsZkD3-Vt"
      }
    },
    {
      "cell_type": "code",
      "source": [
        "model_path = './drive/MyDrive/Colab_Notebooks/dataset_models/BreakHis/Models/'\n",
        "resnet50 = torch.load(model_path + 'breakhis_resnet50.pt')\n",
        "resnet50 = resnet50.cuda()\n",
        "resnet50 = resnet50.eval()"
      ],
      "metadata": {
        "id": "BqEp6D5gTrSA"
      },
      "execution_count": null,
      "outputs": []
    },
    {
      "cell_type": "code",
      "source": [
        "layers = [resnet50.conv1, resnet50.bn1, resnet50.layer1, resnet50.layer2, resnet50.layer3, resnet50.layer4]\n",
        "for child in layers:\n",
        "    for param in child.parameters():\n",
        "        param.requires_grad = True"
      ],
      "metadata": {
        "id": "HWsn9PiXqNCL"
      },
      "execution_count": null,
      "outputs": []
    },
    {
      "cell_type": "markdown",
      "source": [
        "# **5. Experiment function**"
      ],
      "metadata": {
        "id": "J2Yw9Py__bCv"
      }
    },
    {
      "cell_type": "code",
      "source": [
        "def run_experiment(radius, labels, samples_per_img, xai):\n",
        "\n",
        "    assert xai in ['gradcam', 'hirescam']\n",
        "\n",
        "    if xai == 'gradcam':\n",
        "      cam_instance = GradCAM(model=resnet50, target_layers=[resnet50.layer4[2].conv3], use_cuda=True)\n",
        "    elif xai == 'hirescam':\n",
        "      cam_instance = HiResCAM(model=resnet50, target_layers=[resnet50.layer4[2].conv3], use_cuda=True)\n",
        "    \n",
        "    print('radius:{} - labels:{}'.format(radius, labels))\n",
        "\n",
        "    dataset = [(img, label) for (img, label) in test_dataset if (label in labels)]\n",
        "    _, data_scores = MaxSensitivity_Dataset(dataset, resnet50, cam_instance, radius, samples_per_img)\n",
        "\n",
        "    drive_path = './drive/MyDrive/Colab_Notebooks/dataset_models/BreakHis/Max_Sensitivity/exp_ResNet50/'\n",
        "\n",
        "    if xai == 'gradcam':\n",
        "      with open(drive_path + 'maxsens_resnet50_gradcam_radius_{}_labels_{}.pickle'.format(radius, labels), 'wb') as f:\n",
        "        pickle.dump(data_scores, f)\n",
        "    elif xai == 'hirescam':\n",
        "      with open(drive_path + 'maxsens_resnet50_hirescam_radius_{}_labels_{}.pickle'.format(radius, labels), 'wb') as f:\n",
        "        pickle.dump(data_scores, f)\n",
        "    \n",
        "    return data_scores"
      ],
      "metadata": {
        "id": "Ak2ZHp_w4Q9U"
      },
      "execution_count": null,
      "outputs": []
    },
    {
      "cell_type": "markdown",
      "source": [
        "# **6. GradCAM**"
      ],
      "metadata": {
        "id": "gc40Snt46L61"
      }
    },
    {
      "cell_type": "markdown",
      "source": [
        "## **radius 0.05**"
      ],
      "metadata": {
        "id": "fTZm2JW6fTjA"
      }
    },
    {
      "cell_type": "code",
      "source": [
        "data_scores = run_experiment(radius=0.05, labels=[0,1], samples_per_img=20, xai='gradcam')"
      ],
      "metadata": {
        "id": "8unEc0AyfXuB",
        "colab": {
          "base_uri": "https://localhost:8080/"
        },
        "outputId": "c44e508a-0b26-4586-d824-7afa99cf1711"
      },
      "execution_count": null,
      "outputs": [
        {
          "output_type": "stream",
          "name": "stdout",
          "text": [
            "radius:0.05 - labels:[0, 1]\n",
            "Total time: 778.1855580806732 secs\n",
            "Correctly predicted images: 1316/1557\n",
            "Avg secs per image:  0.59\n"
          ]
        }
      ]
    },
    {
      "cell_type": "code",
      "source": [
        "sum(data_scores)"
      ],
      "metadata": {
        "id": "G2NoASpVfXww",
        "colab": {
          "base_uri": "https://localhost:8080/"
        },
        "outputId": "62f0ea5c-5693-4761-ec3b-2d86829e3cc7"
      },
      "execution_count": null,
      "outputs": [
        {
          "output_type": "execute_result",
          "data": {
            "text/plain": [
              "53358.25596809387"
            ]
          },
          "metadata": {},
          "execution_count": 16
        }
      ]
    },
    {
      "cell_type": "markdown",
      "source": [
        "## **radius 0.1**"
      ],
      "metadata": {
        "id": "qxjDnWDd6R8K"
      }
    },
    {
      "cell_type": "code",
      "source": [
        "data_scores = run_experiment(radius=0.1, labels=[0,1], samples_per_img=20, xai='gradcam')"
      ],
      "metadata": {
        "colab": {
          "base_uri": "https://localhost:8080/"
        },
        "id": "rI0ewsEDxNf8",
        "outputId": "b9ee16b0-f356-4337-812c-ad4346ad878b"
      },
      "execution_count": null,
      "outputs": [
        {
          "output_type": "stream",
          "name": "stdout",
          "text": [
            "radius:0.1 - labels:[0, 1]\n",
            "Total time: 782.8284747600555 secs\n",
            "Correctly predicted images: 1316/1557\n",
            "Avg secs per image:  0.59\n"
          ]
        }
      ]
    },
    {
      "cell_type": "code",
      "source": [
        "sum(data_scores)"
      ],
      "metadata": {
        "colab": {
          "base_uri": "https://localhost:8080/"
        },
        "id": "TH4zlabn4MGz",
        "outputId": "80f85d8e-10a5-46fa-fe30-68bee38e5b7c"
      },
      "execution_count": null,
      "outputs": [
        {
          "output_type": "execute_result",
          "data": {
            "text/plain": [
              "76658.79347801208"
            ]
          },
          "metadata": {},
          "execution_count": 13
        }
      ]
    },
    {
      "cell_type": "markdown",
      "source": [
        "## **radius 0.2**"
      ],
      "metadata": {
        "id": "e3B1lOwkfu0-"
      }
    },
    {
      "cell_type": "code",
      "source": [
        "data_scores = run_experiment(radius=0.2, labels=[0,1], samples_per_img=30, xai='gradcam')"
      ],
      "metadata": {
        "id": "CLonmgh9fvSQ",
        "colab": {
          "base_uri": "https://localhost:8080/"
        },
        "outputId": "d73c58bc-71d8-4939-8e24-d67539a120b9"
      },
      "execution_count": null,
      "outputs": [
        {
          "output_type": "stream",
          "name": "stdout",
          "text": [
            "radius:0.2 - labels:[0, 1]\n",
            "Total time: 1169.1989476680756 secs\n",
            "Correctly predicted images: 1316/1557\n",
            "Avg secs per image:  0.89\n"
          ]
        }
      ]
    },
    {
      "cell_type": "code",
      "source": [
        "sum(data_scores)"
      ],
      "metadata": {
        "id": "QFlXFbbQfvUN",
        "colab": {
          "base_uri": "https://localhost:8080/"
        },
        "outputId": "22493b0e-7fae-40ca-f489-04b00a629c6f"
      },
      "execution_count": null,
      "outputs": [
        {
          "output_type": "execute_result",
          "data": {
            "text/plain": [
              "96675.95106124878"
            ]
          },
          "metadata": {},
          "execution_count": 18
        }
      ]
    },
    {
      "cell_type": "markdown",
      "source": [
        "## **radius 0.3**"
      ],
      "metadata": {
        "id": "5aXKk352R5t3"
      }
    },
    {
      "cell_type": "code",
      "source": [
        "data_scores = run_experiment(radius=0.3, labels=[0,1], samples_per_img=30, xai='gradcam')"
      ],
      "metadata": {
        "id": "I8xwVeAqR44b",
        "colab": {
          "base_uri": "https://localhost:8080/"
        },
        "outputId": "0faabdd8-7c16-4214-87fb-53dedb242bc6"
      },
      "execution_count": null,
      "outputs": [
        {
          "output_type": "stream",
          "name": "stdout",
          "text": [
            "radius:0.3 - labels:[0, 1]\n",
            "Total time: 1165.541390657425 secs\n",
            "Correctly predicted images: 1316/1557\n",
            "Avg secs per image:  0.89\n"
          ]
        }
      ]
    },
    {
      "cell_type": "code",
      "source": [
        "sum(data_scores)"
      ],
      "metadata": {
        "id": "Gj8vBMmjR9-5",
        "colab": {
          "base_uri": "https://localhost:8080/"
        },
        "outputId": "f3df233f-a4bb-420c-e1e5-f688cf0a6742"
      },
      "execution_count": null,
      "outputs": [
        {
          "data": {
            "text/plain": [
              "102385.1095199585"
            ]
          },
          "execution_count": 15,
          "metadata": {},
          "output_type": "execute_result"
        }
      ]
    },
    {
      "cell_type": "markdown",
      "source": [
        "## **radius 0.4**"
      ],
      "metadata": {
        "id": "_IOW6i1V77Zo"
      }
    },
    {
      "cell_type": "code",
      "source": [
        "data_scores = run_experiment(radius=0.4, labels=[0,1], samples_per_img=40, xai='gradcam')"
      ],
      "metadata": {
        "id": "SaVYWmev77yy",
        "colab": {
          "base_uri": "https://localhost:8080/"
        },
        "outputId": "5fccb356-8a38-48db-c298-26697c60a6c4"
      },
      "execution_count": null,
      "outputs": [
        {
          "output_type": "stream",
          "name": "stdout",
          "text": [
            "radius:0.4 - labels:[0, 1]\n",
            "Total time: 1544.7040603160858 secs\n",
            "Correctly predicted images: 1316/1557\n",
            "Avg secs per image:  1.17\n"
          ]
        }
      ]
    },
    {
      "cell_type": "code",
      "source": [
        "sum(data_scores)"
      ],
      "metadata": {
        "id": "cHDn9hWf770o",
        "colab": {
          "base_uri": "https://localhost:8080/"
        },
        "outputId": "a4923d7a-7d78-4ad1-8636-8e29e9218f81"
      },
      "execution_count": null,
      "outputs": [
        {
          "output_type": "execute_result",
          "data": {
            "text/plain": [
              "106474.06798171997"
            ]
          },
          "metadata": {},
          "execution_count": 20
        }
      ]
    },
    {
      "cell_type": "markdown",
      "source": [
        "## **radius 0.5**"
      ],
      "metadata": {
        "id": "QFHVIGoc3oJa"
      }
    },
    {
      "cell_type": "code",
      "source": [
        "data_scores = run_experiment(radius=0.5, labels=[0,1], samples_per_img=40, xai='gradcam')"
      ],
      "metadata": {
        "id": "RGGKhBVn3ohz",
        "colab": {
          "base_uri": "https://localhost:8080/"
        },
        "outputId": "85e765b3-056b-440e-af4f-0548c5240995"
      },
      "execution_count": null,
      "outputs": [
        {
          "output_type": "stream",
          "name": "stdout",
          "text": [
            "radius:0.5 - labels:[0, 1]\n",
            "Total time: 1528.7787430286407 secs\n",
            "Correctly predicted images: 1316/1557\n",
            "Avg secs per image:  1.16\n"
          ]
        }
      ]
    },
    {
      "cell_type": "code",
      "source": [
        "sum(data_scores)"
      ],
      "metadata": {
        "id": "7dG5qb3a3oje",
        "colab": {
          "base_uri": "https://localhost:8080/"
        },
        "outputId": "c3069a95-00bc-4b2d-e1e3-ca67cd4d261a"
      },
      "execution_count": null,
      "outputs": [
        {
          "output_type": "execute_result",
          "data": {
            "text/plain": [
              "108337.03437805176"
            ]
          },
          "metadata": {},
          "execution_count": 22
        }
      ]
    },
    {
      "cell_type": "markdown",
      "source": [
        "# **7. HiResCAM**"
      ],
      "metadata": {
        "id": "5yFumjYn6Vje"
      }
    },
    {
      "cell_type": "markdown",
      "source": [
        "## **radius 0.05**"
      ],
      "metadata": {
        "id": "2PBVdITMfgdY"
      }
    },
    {
      "cell_type": "code",
      "source": [
        "data_scores = run_experiment(radius=0.05, labels=[0,1], samples_per_img=20, xai='hirescam')"
      ],
      "metadata": {
        "id": "niUrrU3FfirI",
        "colab": {
          "base_uri": "https://localhost:8080/"
        },
        "outputId": "4ce69e9a-49ad-4159-defe-5534ca670014"
      },
      "execution_count": null,
      "outputs": [
        {
          "output_type": "stream",
          "name": "stdout",
          "text": [
            "radius:0.05 - labels:[0, 1]\n",
            "Total time: 775.6268167495728 secs\n",
            "Correctly predicted images: 1316/1557\n",
            "Avg secs per image:  0.59\n"
          ]
        }
      ]
    },
    {
      "cell_type": "code",
      "source": [
        "sum(data_scores)"
      ],
      "metadata": {
        "id": "q2HV9AMNfiup",
        "colab": {
          "base_uri": "https://localhost:8080/"
        },
        "outputId": "c8c46aa0-0de9-493a-c24d-87fb5da0b1d9"
      },
      "execution_count": null,
      "outputs": [
        {
          "output_type": "execute_result",
          "data": {
            "text/plain": [
              "48041.11091423035"
            ]
          },
          "metadata": {},
          "execution_count": 16
        }
      ]
    },
    {
      "cell_type": "markdown",
      "source": [
        "## **radius 0.1**"
      ],
      "metadata": {
        "id": "5J7I8kMv6Vmc"
      }
    },
    {
      "cell_type": "code",
      "source": [
        "data_scores = run_experiment(radius=0.1, labels=[0,1], samples_per_img=20, xai='hirescam')  "
      ],
      "metadata": {
        "id": "_z306-tU6WF_",
        "colab": {
          "base_uri": "https://localhost:8080/"
        },
        "outputId": "bdcc5aa8-4d1d-4271-a535-52bd39b7812f"
      },
      "execution_count": null,
      "outputs": [
        {
          "output_type": "stream",
          "name": "stdout",
          "text": [
            "radius:0.1 - labels:[0, 1]\n",
            "Total time: 785.767427444458 secs\n",
            "Correctly predicted images: 1316/1557\n",
            "Avg secs per image:  0.6\n"
          ]
        }
      ]
    },
    {
      "cell_type": "code",
      "source": [
        "sum(data_scores)"
      ],
      "metadata": {
        "id": "oRSfCCH16WHn",
        "colab": {
          "base_uri": "https://localhost:8080/"
        },
        "outputId": "05f93e04-c15c-420c-f4a8-8b8fcfd5b961"
      },
      "execution_count": null,
      "outputs": [
        {
          "output_type": "execute_result",
          "data": {
            "text/plain": [
              "67949.15669345856"
            ]
          },
          "metadata": {},
          "execution_count": 17
        }
      ]
    },
    {
      "cell_type": "markdown",
      "source": [
        "## **radius 0.2**"
      ],
      "metadata": {
        "id": "mpG-SZOAf72E"
      }
    },
    {
      "cell_type": "code",
      "source": [
        "data_scores = run_experiment(radius=0.2, labels=[0,1], samples_per_img=30, xai='hirescam')"
      ],
      "metadata": {
        "id": "Q5OElNmDf8Bb",
        "colab": {
          "base_uri": "https://localhost:8080/"
        },
        "outputId": "fbf1f0f6-d124-4560-ff92-a4abcd10b05d"
      },
      "execution_count": null,
      "outputs": [
        {
          "output_type": "stream",
          "name": "stdout",
          "text": [
            "radius:0.2 - labels:[0, 1]\n",
            "Total time: 1149.916580915451 secs\n",
            "Correctly predicted images: 1316/1557\n",
            "Avg secs per image:  0.87\n"
          ]
        }
      ]
    },
    {
      "cell_type": "code",
      "source": [
        "sum(data_scores)"
      ],
      "metadata": {
        "id": "3t_5xt_Uf8DV",
        "colab": {
          "base_uri": "https://localhost:8080/"
        },
        "outputId": "2cdbd4f0-79bb-4c36-8029-af64966dceb7"
      },
      "execution_count": null,
      "outputs": [
        {
          "output_type": "execute_result",
          "data": {
            "text/plain": [
              "84808.04773712158"
            ]
          },
          "metadata": {},
          "execution_count": 18
        }
      ]
    },
    {
      "cell_type": "markdown",
      "source": [
        "## **radius 0.3**"
      ],
      "metadata": {
        "id": "ejYoXMYFSDLa"
      }
    },
    {
      "cell_type": "code",
      "source": [
        "data_scores = run_experiment(radius=0.3, labels=[0,1], samples_per_img=30, xai='hirescam')"
      ],
      "metadata": {
        "id": "yrEd4D_vSDdd",
        "colab": {
          "base_uri": "https://localhost:8080/"
        },
        "outputId": "8a17b6ff-318f-4d37-82b6-a1bf6e7dab35"
      },
      "execution_count": null,
      "outputs": [
        {
          "output_type": "stream",
          "name": "stdout",
          "text": [
            "radius:0.3 - labels:[0, 1]\n",
            "Total time: 1130.640930891037 secs\n",
            "Correctly predicted images: 1316/1557\n",
            "Avg secs per image:  0.86\n"
          ]
        }
      ]
    },
    {
      "cell_type": "code",
      "source": [
        "sum(data_scores)"
      ],
      "metadata": {
        "id": "fp9T0WzMSDfJ",
        "colab": {
          "base_uri": "https://localhost:8080/"
        },
        "outputId": "cee2327e-b5a3-43d8-884a-bd6e181ba083"
      },
      "execution_count": null,
      "outputs": [
        {
          "output_type": "execute_result",
          "data": {
            "text/plain": [
              "90099.30974960327"
            ]
          },
          "metadata": {},
          "execution_count": 19
        }
      ]
    },
    {
      "cell_type": "markdown",
      "source": [
        "## **radius 0.4**"
      ],
      "metadata": {
        "id": "zTG4kdn5ZXI9"
      }
    },
    {
      "cell_type": "code",
      "source": [
        "data_scores = run_experiment(radius=0.4, labels=[0,1], samples_per_img=40, xai='hirescam')"
      ],
      "metadata": {
        "id": "TicntYXPZaT8",
        "colab": {
          "base_uri": "https://localhost:8080/"
        },
        "outputId": "8f996428-634e-4c41-ed77-73809d4baa19"
      },
      "execution_count": null,
      "outputs": [
        {
          "output_type": "stream",
          "name": "stdout",
          "text": [
            "radius:0.4 - labels:[0, 1]\n",
            "Total time: 1501.842985868454 secs\n",
            "Correctly predicted images: 1316/1557\n",
            "Avg secs per image:  1.14\n"
          ]
        }
      ]
    },
    {
      "cell_type": "code",
      "source": [
        "sum(data_scores)"
      ],
      "metadata": {
        "id": "BPw8dFmIZaWn",
        "colab": {
          "base_uri": "https://localhost:8080/"
        },
        "outputId": "154f311a-c9a8-4e27-8f59-8cbe8d88170e"
      },
      "execution_count": null,
      "outputs": [
        {
          "data": {
            "text/plain": [
              "93695.94694519043"
            ]
          },
          "execution_count": 24,
          "metadata": {},
          "output_type": "execute_result"
        }
      ]
    },
    {
      "cell_type": "markdown",
      "source": [
        "## **radius 0.5**"
      ],
      "metadata": {
        "id": "Hol5vSv83zvg"
      }
    },
    {
      "cell_type": "code",
      "source": [
        "data_scores = run_experiment(radius=0.5, labels=[0,1], samples_per_img=40, xai='hirescam')"
      ],
      "metadata": {
        "id": "HPHUDLSg3z7r",
        "colab": {
          "base_uri": "https://localhost:8080/"
        },
        "outputId": "8f38b292-2c2c-4cef-9a5a-1f7e41a528d1"
      },
      "execution_count": null,
      "outputs": [
        {
          "output_type": "stream",
          "name": "stdout",
          "text": [
            "radius:0.5 - labels:[0, 1]\n",
            "Total time: 1522.7322900295258 secs\n",
            "Correctly predicted images: 1316/1557\n",
            "Avg secs per image:  1.16\n"
          ]
        }
      ]
    },
    {
      "cell_type": "code",
      "source": [
        "sum(data_scores)"
      ],
      "metadata": {
        "id": "A7HrVgMz3z9k",
        "colab": {
          "base_uri": "https://localhost:8080/"
        },
        "outputId": "5f7fb5dc-cf27-4327-8720-5008f6876643"
      },
      "execution_count": null,
      "outputs": [
        {
          "data": {
            "text/plain": [
              "95304.00875473022"
            ]
          },
          "execution_count": 26,
          "metadata": {},
          "output_type": "execute_result"
        }
      ]
    },
    {
      "cell_type": "code",
      "source": [],
      "metadata": {
        "id": "RQyGZgYmF3mV"
      },
      "execution_count": null,
      "outputs": []
    }
  ],
  "metadata": {
    "colab": {
      "provenance": [],
      "machine_shape": "hm",
      "collapsed_sections": [
        "bcypiEPALYMy",
        "Fgu3bQPI-wsk",
        "6TsPsZkD3-Vt",
        "J2Yw9Py__bCv",
        "gc40Snt46L61",
        "fTZm2JW6fTjA",
        "qxjDnWDd6R8K",
        "e3B1lOwkfu0-",
        "5aXKk352R5t3",
        "_IOW6i1V77Zo",
        "QFHVIGoc3oJa",
        "5yFumjYn6Vje",
        "2PBVdITMfgdY",
        "5J7I8kMv6Vmc",
        "mpG-SZOAf72E",
        "ejYoXMYFSDLa",
        "zTG4kdn5ZXI9",
        "Hol5vSv83zvg"
      ],
      "include_colab_link": true
    },
    "gpuClass": "standard",
    "kernelspec": {
      "display_name": "Python 3",
      "name": "python3"
    },
    "language_info": {
      "name": "python"
    },
    "accelerator": "GPU"
  },
  "nbformat": 4,
  "nbformat_minor": 0
}