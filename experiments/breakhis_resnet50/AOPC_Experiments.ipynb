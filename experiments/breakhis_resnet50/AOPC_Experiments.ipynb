{
  "cells": [
    {
      "cell_type": "markdown",
      "metadata": {
        "id": "view-in-github",
        "colab_type": "text"
      },
      "source": [
        "<a href=\"https://colab.research.google.com/github/vggls/M.Sc._AI_Thesis/blob/main/experiments/breakhis_resnet50/AOPC_Experiments.ipynb\" target=\"_parent\"><img src=\"https://colab.research.google.com/assets/colab-badge.svg\" alt=\"Open In Colab\"/></a>"
      ]
    },
    {
      "cell_type": "markdown",
      "metadata": {
        "id": "J80QyIeXwSqg"
      },
      "source": [
        "# **1. Imports**"
      ]
    },
    {
      "cell_type": "code",
      "execution_count": null,
      "metadata": {
        "id": "dmKnCRxI3MrQ",
        "colab": {
          "base_uri": "https://localhost:8080/"
        },
        "outputId": "ef89394d-7967-444c-cbbd-6eeec6945c1e"
      },
      "outputs": [
        {
          "output_type": "stream",
          "name": "stdout",
          "text": [
            "Looking in indexes: https://pypi.org/simple, https://us-python.pkg.dev/colab-wheels/public/simple/\n",
            "Collecting grad-cam\n",
            "  Downloading grad-cam-1.4.6.tar.gz (7.8 MB)\n",
            "\u001b[2K     \u001b[90m━━━━━━━━━━━━━━━━━━━━━━━━━━━━━━━━━━━━━━━━\u001b[0m \u001b[32m7.8/7.8 MB\u001b[0m \u001b[31m47.0 MB/s\u001b[0m eta \u001b[36m0:00:00\u001b[0m\n",
            "\u001b[?25h  Installing build dependencies ... \u001b[?25l\u001b[?25hdone\n",
            "  Getting requirements to build wheel ... \u001b[?25l\u001b[?25hdone\n",
            "  Preparing metadata (pyproject.toml) ... \u001b[?25l\u001b[?25hdone\n",
            "Requirement already satisfied: Pillow in /usr/local/lib/python3.8/dist-packages (from grad-cam) (8.4.0)\n",
            "Requirement already satisfied: matplotlib in /usr/local/lib/python3.8/dist-packages (from grad-cam) (3.5.3)\n",
            "Requirement already satisfied: torchvision>=0.8.2 in /usr/local/lib/python3.8/dist-packages (from grad-cam) (0.14.1+cu116)\n",
            "Requirement already satisfied: numpy in /usr/local/lib/python3.8/dist-packages (from grad-cam) (1.22.4)\n",
            "Collecting ttach\n",
            "  Downloading ttach-0.0.3-py3-none-any.whl (9.8 kB)\n",
            "Requirement already satisfied: torch>=1.7.1 in /usr/local/lib/python3.8/dist-packages (from grad-cam) (1.13.1+cu116)\n",
            "Requirement already satisfied: opencv-python in /usr/local/lib/python3.8/dist-packages (from grad-cam) (4.6.0.66)\n",
            "Requirement already satisfied: tqdm in /usr/local/lib/python3.8/dist-packages (from grad-cam) (4.64.1)\n",
            "Requirement already satisfied: scikit-learn in /usr/local/lib/python3.8/dist-packages (from grad-cam) (1.0.2)\n",
            "Requirement already satisfied: typing-extensions in /usr/local/lib/python3.8/dist-packages (from torch>=1.7.1->grad-cam) (4.5.0)\n",
            "Requirement already satisfied: requests in /usr/local/lib/python3.8/dist-packages (from torchvision>=0.8.2->grad-cam) (2.25.1)\n",
            "Requirement already satisfied: kiwisolver>=1.0.1 in /usr/local/lib/python3.8/dist-packages (from matplotlib->grad-cam) (1.4.4)\n",
            "Requirement already satisfied: python-dateutil>=2.7 in /usr/local/lib/python3.8/dist-packages (from matplotlib->grad-cam) (2.8.2)\n",
            "Requirement already satisfied: pyparsing>=2.2.1 in /usr/local/lib/python3.8/dist-packages (from matplotlib->grad-cam) (3.0.9)\n",
            "Requirement already satisfied: cycler>=0.10 in /usr/local/lib/python3.8/dist-packages (from matplotlib->grad-cam) (0.11.0)\n",
            "Requirement already satisfied: packaging>=20.0 in /usr/local/lib/python3.8/dist-packages (from matplotlib->grad-cam) (23.0)\n",
            "Requirement already satisfied: fonttools>=4.22.0 in /usr/local/lib/python3.8/dist-packages (from matplotlib->grad-cam) (4.38.0)\n",
            "Requirement already satisfied: joblib>=0.11 in /usr/local/lib/python3.8/dist-packages (from scikit-learn->grad-cam) (1.2.0)\n",
            "Requirement already satisfied: scipy>=1.1.0 in /usr/local/lib/python3.8/dist-packages (from scikit-learn->grad-cam) (1.7.3)\n",
            "Requirement already satisfied: threadpoolctl>=2.0.0 in /usr/local/lib/python3.8/dist-packages (from scikit-learn->grad-cam) (3.1.0)\n",
            "Requirement already satisfied: six>=1.5 in /usr/local/lib/python3.8/dist-packages (from python-dateutil>=2.7->matplotlib->grad-cam) (1.15.0)\n",
            "Requirement already satisfied: urllib3<1.27,>=1.21.1 in /usr/local/lib/python3.8/dist-packages (from requests->torchvision>=0.8.2->grad-cam) (1.24.3)\n",
            "Requirement already satisfied: certifi>=2017.4.17 in /usr/local/lib/python3.8/dist-packages (from requests->torchvision>=0.8.2->grad-cam) (2022.12.7)\n",
            "Requirement already satisfied: idna<3,>=2.5 in /usr/local/lib/python3.8/dist-packages (from requests->torchvision>=0.8.2->grad-cam) (2.10)\n",
            "Requirement already satisfied: chardet<5,>=3.0.2 in /usr/local/lib/python3.8/dist-packages (from requests->torchvision>=0.8.2->grad-cam) (4.0.0)\n",
            "Building wheels for collected packages: grad-cam\n",
            "  Building wheel for grad-cam (pyproject.toml) ... \u001b[?25l\u001b[?25hdone\n",
            "  Created wheel for grad-cam: filename=grad_cam-1.4.6-py3-none-any.whl size=38261 sha256=bd5f0d61c0af255dcd27d91319d60e72406988c6ddead11d7c87b779c1fe0422\n",
            "  Stored in directory: /root/.cache/pip/wheels/53/02/43/1f75726b5c28459596067ad91e36951463c01273eef661f09f\n",
            "Successfully built grad-cam\n",
            "Installing collected packages: ttach, grad-cam\n",
            "Successfully installed grad-cam-1.4.6 ttach-0.0.3\n"
          ]
        }
      ],
      "source": [
        "pip install grad-cam"
      ]
    },
    {
      "cell_type": "code",
      "execution_count": null,
      "metadata": {
        "id": "qxBT2qoNHV7e"
      },
      "outputs": [],
      "source": [
        "import plotly.graph_objects as go\n",
        "import pandas as pd\n",
        "import numpy as np\n",
        "import pickle\n",
        "import shutil\n",
        "\n",
        "import torch\n",
        "from torchvision  import transforms\n",
        "\n",
        "from pytorch_grad_cam import GradCAM, HiResCAM"
      ]
    },
    {
      "cell_type": "code",
      "execution_count": null,
      "metadata": {
        "id": "dxzFgtN5pcvv"
      },
      "outputs": [],
      "source": [
        "# custom written code \n",
        "from breakhis_slide_allocation import allocate_slides_to_datasets\n",
        "from breakhis_binary import create_datasets\n",
        "from morf import MoRF, AOPC_Dataset, plot_aopc_per_step\n",
        "from heatmap import Heatmap"
      ]
    },
    {
      "cell_type": "code",
      "execution_count": null,
      "metadata": {
        "colab": {
          "base_uri": "https://localhost:8080/"
        },
        "id": "QWXT6yy79tRa",
        "outputId": "c27b86aa-7ea9-4a8d-c31f-01e9c8fb109c"
      },
      "outputs": [
        {
          "output_type": "stream",
          "name": "stdout",
          "text": [
            "Mounted at /content/drive\n"
          ]
        }
      ],
      "source": [
        "from google.colab import drive  \n",
        "drive.mount('/content/drive') "
      ]
    },
    {
      "cell_type": "markdown",
      "metadata": {
        "id": "FN2rORbkwW-O"
      },
      "source": [
        "# **2. Download from Kaggle**"
      ]
    },
    {
      "cell_type": "code",
      "execution_count": null,
      "metadata": {
        "id": "X5sMhGuJ91Io"
      },
      "outputs": [],
      "source": [
        "! mkdir ~/.kaggle\n",
        "!cp /content/drive/MyDrive/kaggle.json ~/.kaggle/kaggle.json"
      ]
    },
    {
      "cell_type": "code",
      "source": [
        "! kaggle datasets download ambarish/breakhis"
      ],
      "metadata": {
        "colab": {
          "base_uri": "https://localhost:8080/"
        },
        "id": "EN7U20YrTPZG",
        "outputId": "545fdce9-88ed-4ae5-ea88-4809e5173056"
      },
      "execution_count": null,
      "outputs": [
        {
          "output_type": "stream",
          "name": "stdout",
          "text": [
            "Downloading breakhis.zip to /content\n",
            "100% 3.98G/3.99G [00:22<00:00, 83.3MB/s]\n",
            "100% 3.99G/3.99G [00:22<00:00, 192MB/s] \n"
          ]
        }
      ]
    },
    {
      "cell_type": "code",
      "source": [
        "! unzip breakhis.zip"
      ],
      "metadata": {
        "id": "ByvsSKrITPbd"
      },
      "execution_count": null,
      "outputs": []
    },
    {
      "cell_type": "markdown",
      "metadata": {
        "id": "j75nS3JMwlBA"
      },
      "source": [
        "# **3. Test Dataset**"
      ]
    },
    {
      "cell_type": "code",
      "source": [
        "#shutil.rmtree('./test_dataset')"
      ],
      "metadata": {
        "id": "wlpj8ZIqmSjs"
      },
      "execution_count": null,
      "outputs": []
    },
    {
      "cell_type": "code",
      "execution_count": null,
      "metadata": {
        "id": "9eB3IyPgqwYS"
      },
      "outputs": [],
      "source": [
        "train_transforms = transforms.Compose([\n",
        "    transforms.Resize((224, 224)),\n",
        "    transforms.RandomHorizontalFlip(p=0.2),\n",
        "    transforms.RandomVerticalFlip(p=0.2),\n",
        "    transforms.RandomRotation(20),\n",
        "    transforms.ToTensor(),\n",
        "    transforms.Normalize(torch.Tensor([0.5, 0.5, 0.5]), torch.Tensor([0.5, 0.5, 0.5]))\n",
        "])\n",
        "# to be applied to validation and test data\n",
        "test_transforms = transforms.Compose([\n",
        "    transforms.Resize((224, 224)),\n",
        "    transforms.ToTensor(),\n",
        "    transforms.Normalize(torch.Tensor([0.5, 0.5, 0.5]), torch.Tensor([0.5, 0.5, 0.5]))\n",
        "])"
      ]
    },
    {
      "cell_type": "code",
      "source": [
        "training_dataset, validation_dataset, test_dataset = create_datasets(train_transforms, test_transforms)"
      ],
      "metadata": {
        "colab": {
          "base_uri": "https://localhost:8080/"
        },
        "id": "u0R1RmehTlcb",
        "outputId": "4400111e-28df-483b-c2bf-61b23fbea5ab"
      },
      "execution_count": null,
      "outputs": [
        {
          "output_type": "stream",
          "name": "stdout",
          "text": [
            "No benign slides overlap in training, validation and test sets!\n",
            "No malignant slides overlap in training, validation and test sets!\n"
          ]
        }
      ]
    },
    {
      "cell_type": "code",
      "source": [
        "# do not need them in this notebook\n",
        "shutil.rmtree('./training_dataset')\n",
        "shutil.rmtree('./validation_dataset')"
      ],
      "metadata": {
        "id": "arsgbad1Tul_"
      },
      "execution_count": null,
      "outputs": []
    },
    {
      "cell_type": "markdown",
      "metadata": {
        "id": "bqDms25r2PGD"
      },
      "source": [
        "# **4. Load model**"
      ]
    },
    {
      "cell_type": "code",
      "execution_count": null,
      "metadata": {
        "id": "jrI_OB8mUHAZ"
      },
      "outputs": [],
      "source": [
        "model_path = './drive/MyDrive/Colab_Notebooks/dataset_models/BreakHis/Models/'\n",
        "resnet50 = torch.load(model_path + 'breakhis_resnet50.pt')"
      ]
    },
    {
      "cell_type": "code",
      "execution_count": null,
      "metadata": {
        "id": "iz5swrhHUewu"
      },
      "outputs": [],
      "source": [
        "resnet50 = resnet50.cuda()\n",
        "resnet50 = resnet50.eval()"
      ]
    },
    {
      "cell_type": "code",
      "source": [
        "layers = [resnet50.conv1, resnet50.bn1, resnet50.layer1, resnet50.layer2, resnet50.layer3, resnet50.layer4]\n",
        "for child in layers:\n",
        "    for param in child.parameters():\n",
        "        param.requires_grad = True"
      ],
      "metadata": {
        "id": "NIKzJOhCjTsj"
      },
      "execution_count": null,
      "outputs": []
    },
    {
      "cell_type": "markdown",
      "metadata": {
        "id": "qADJttQe31N2"
      },
      "source": [
        "# **5. Experiment function**"
      ]
    },
    {
      "cell_type": "code",
      "execution_count": null,
      "metadata": {
        "id": "V09izbvIMkmF"
      },
      "outputs": [],
      "source": [
        "def run_experiment(region_size, labels, xai):\n",
        "\n",
        "    assert xai in ['gradcam', 'hirescam']\n",
        "\n",
        "    if xai == 'gradcam':\n",
        "      cam_instance = GradCAM(model=resnet50, target_layers=[resnet50.layer4[2].conv3], use_cuda=True)\n",
        "    elif xai == 'hirescam':\n",
        "      cam_instance = HiResCAM(model=resnet50, target_layers=[resnet50.layer4[2].conv3], use_cuda=True)\n",
        "    \n",
        "    print('region_size:{}*{} - labels:{}'.format(region_size, region_size, labels))\n",
        "\n",
        "    dataset = [(img, label) for (img, label) in test_dataset if (label in labels)]\n",
        "    diffs, img_scores, aopc_score = AOPC_Dataset(dataset = dataset, \n",
        "                                                 model = resnet50, \n",
        "                                                 region_size = region_size, \n",
        "                                                 cam_instance = cam_instance)\n",
        "\n",
        "    drive_path = './drive/MyDrive/Colab_Notebooks/dataset_models/BreakHis/AOPC/exp_ResNet50/'\n",
        "\n",
        "    if xai == 'gradcam':\n",
        "      with open(drive_path + 'aopc_resnet50_gradcam_diffs_region-size_{}_labels_{}.pickle'.format(region_size, labels), 'wb') as f: pickle.dump(diffs, f)\n",
        "      with open(drive_path + 'aopc_resnet50_gradcam_scores_region-size_{}_labels_{}.pickle'.format(region_size, labels), 'wb') as f: pickle.dump(img_scores, f)\n",
        "    elif xai == 'hirescam':\n",
        "      with open(drive_path + 'aopc_resnet50_hirescam_diffs_region-size_{}_labels_{}.pickle'.format(region_size, labels), 'wb') as f: pickle.dump(diffs, f)\n",
        "      with open(drive_path + 'aopc_resnet50_hirescam_scores_region-size_{}_labels_{}.pickle'.format(region_size, labels), 'wb') as f: pickle.dump(img_scores, f)\n",
        "    \n",
        "    return aopc_score"
      ]
    },
    {
      "cell_type": "markdown",
      "metadata": {
        "id": "cRSkHHTa1-Z4"
      },
      "source": [
        "# **6. GradCAM**"
      ]
    },
    {
      "cell_type": "markdown",
      "metadata": {
        "id": "AGVF_HjGA4fq"
      },
      "source": [
        "## **region size 16*16** (heatmap 14*14)"
      ]
    },
    {
      "cell_type": "code",
      "source": [
        "score = run_experiment(region_size=16, labels=[0,1], xai='gradcam')"
      ],
      "metadata": {
        "id": "KCJCFS0KPuIv",
        "colab": {
          "base_uri": "https://localhost:8080/"
        },
        "outputId": "87cb576c-047a-482c-ced6-aef8faa4c628"
      },
      "execution_count": null,
      "outputs": [
        {
          "output_type": "stream",
          "name": "stdout",
          "text": [
            "region_size:16*16 - labels:[0, 1]\n",
            "Total time: 3010.997667312622 secs\n",
            "No of correctly classified images: 1316/1557\n",
            "Avg secs per image:  2.29\n"
          ]
        }
      ]
    },
    {
      "cell_type": "code",
      "source": [
        "score"
      ],
      "metadata": {
        "id": "TG68SgDCPuKa",
        "colab": {
          "base_uri": "https://localhost:8080/"
        },
        "outputId": "8f0a6a86-91c5-4932-afa0-f70440d58c48"
      },
      "execution_count": null,
      "outputs": [
        {
          "output_type": "execute_result",
          "data": {
            "text/plain": [
              "0.268"
            ]
          },
          "metadata": {},
          "execution_count": 16
        }
      ]
    },
    {
      "cell_type": "markdown",
      "source": [
        "## **region size 21*21** (heatmap 11*11)"
      ],
      "metadata": {
        "id": "ABprKmaSniYJ"
      }
    },
    {
      "cell_type": "code",
      "source": [
        "score = run_experiment(region_size=21, labels=[0,1], xai='gradcam')"
      ],
      "metadata": {
        "id": "oT-67gIKnk11",
        "colab": {
          "base_uri": "https://localhost:8080/"
        },
        "outputId": "811c85fb-e41f-40dc-f94e-4200461d9f53"
      },
      "execution_count": null,
      "outputs": [
        {
          "output_type": "stream",
          "name": "stdout",
          "text": [
            "region_size:21*21 - labels:[0, 1]\n",
            "Total time: 2011.3037531375885 secs\n",
            "No of correctly classified images: 1316/1557\n",
            "Avg secs per image:  1.53\n"
          ]
        }
      ]
    },
    {
      "cell_type": "code",
      "source": [
        "score"
      ],
      "metadata": {
        "id": "zZBnXF0Wnk3h",
        "colab": {
          "base_uri": "https://localhost:8080/"
        },
        "outputId": "c0f323f1-a955-408a-80f3-1f7433f2954d"
      },
      "execution_count": null,
      "outputs": [
        {
          "output_type": "execute_result",
          "data": {
            "text/plain": [
              "0.276"
            ]
          },
          "metadata": {},
          "execution_count": 37
        }
      ]
    },
    {
      "cell_type": "markdown",
      "metadata": {
        "id": "SQCzopgOAu8x"
      },
      "source": [
        "## **region size 28*28** (heatmap 8*8)"
      ]
    },
    {
      "cell_type": "code",
      "execution_count": null,
      "metadata": {
        "id": "g3bk9-iWMswR",
        "colab": {
          "base_uri": "https://localhost:8080/"
        },
        "outputId": "f119d4da-9b9c-444f-afd0-fa48595ccd76"
      },
      "outputs": [
        {
          "output_type": "stream",
          "name": "stdout",
          "text": [
            "region_size:28*28 - labels:[0, 1]\n",
            "Total time: 1179.170154094696 secs\n",
            "No of correctly classified images: 1316/1557\n",
            "Avg secs per image:  0.9\n"
          ]
        }
      ],
      "source": [
        "score = run_experiment(region_size=28, labels=[0,1], xai='gradcam')"
      ]
    },
    {
      "cell_type": "code",
      "execution_count": null,
      "metadata": {
        "id": "zNAytDWzPrM8",
        "colab": {
          "base_uri": "https://localhost:8080/"
        },
        "outputId": "7337a48f-cf51-44a7-daaa-c1cfa1675d37"
      },
      "outputs": [
        {
          "output_type": "execute_result",
          "data": {
            "text/plain": [
              "0.27"
            ]
          },
          "metadata": {},
          "execution_count": 22
        }
      ],
      "source": [
        "score"
      ]
    },
    {
      "cell_type": "markdown",
      "source": [
        "## **region size 56*56** (heatmap 4*4)"
      ],
      "metadata": {
        "id": "WfBEeddWKO7x"
      }
    },
    {
      "cell_type": "code",
      "source": [
        "score = run_experiment(region_size=56, labels=[0,1], xai='gradcam')"
      ],
      "metadata": {
        "id": "JsnZD8yKKPOZ",
        "colab": {
          "base_uri": "https://localhost:8080/"
        },
        "outputId": "9f299316-aee3-466f-8494-6b8b2072831d"
      },
      "execution_count": null,
      "outputs": [
        {
          "output_type": "stream",
          "name": "stdout",
          "text": [
            "region_size:56*56 - labels:[0, 1]\n",
            "Total time: 420.3759379386902 secs\n",
            "No of correctly classified images: 1316/1557\n",
            "Avg secs per image:  0.32\n"
          ]
        }
      ]
    },
    {
      "cell_type": "code",
      "source": [
        "score"
      ],
      "metadata": {
        "id": "18rEOB5jKPRO",
        "colab": {
          "base_uri": "https://localhost:8080/"
        },
        "outputId": "3381faa9-1016-4ef0-fa21-ff5c4f1b75ba"
      },
      "execution_count": null,
      "outputs": [
        {
          "output_type": "execute_result",
          "data": {
            "text/plain": [
              "0.324"
            ]
          },
          "metadata": {},
          "execution_count": 18
        }
      ]
    },
    {
      "cell_type": "markdown",
      "metadata": {
        "id": "2x-Nhldp9OTv"
      },
      "source": [
        "# **7. HiResCAM**"
      ]
    },
    {
      "cell_type": "markdown",
      "metadata": {
        "id": "ADYBacGCHBUf"
      },
      "source": [
        "## **region size 16*16** (heatmap 14*14)"
      ]
    },
    {
      "cell_type": "code",
      "source": [
        "score = run_experiment(region_size=16, labels=[0,1], xai='hirescam')"
      ],
      "metadata": {
        "id": "aFhS5695Otzg",
        "colab": {
          "base_uri": "https://localhost:8080/"
        },
        "outputId": "30115058-a952-4bf7-cb12-343f5b68a800"
      },
      "execution_count": null,
      "outputs": [
        {
          "output_type": "stream",
          "name": "stdout",
          "text": [
            "region_size:16*16 - labels:[0, 1]\n",
            "Total time: 3074.348581790924 secs\n",
            "No of correctly classified images: 1316/1557\n",
            "Avg secs per image:  2.34\n"
          ]
        }
      ]
    },
    {
      "cell_type": "code",
      "source": [
        "score"
      ],
      "metadata": {
        "id": "ZK9ZiqKQOt2Q",
        "colab": {
          "base_uri": "https://localhost:8080/"
        },
        "outputId": "b7d1f869-066e-4b40-d184-03e0a5edc2a5"
      },
      "execution_count": null,
      "outputs": [
        {
          "data": {
            "text/plain": [
              "0.266"
            ]
          },
          "execution_count": 20,
          "metadata": {},
          "output_type": "execute_result"
        }
      ]
    },
    {
      "cell_type": "markdown",
      "source": [
        "## **region size 21*21** (heatmap 11*11)"
      ],
      "metadata": {
        "id": "j7IXVRB2n5qb"
      }
    },
    {
      "cell_type": "code",
      "source": [
        "score = run_experiment(region_size=21, labels=[0,1], xai='hirescam')"
      ],
      "metadata": {
        "id": "tDxTHPXgn52a",
        "colab": {
          "base_uri": "https://localhost:8080/"
        },
        "outputId": "401d801b-dee1-4f65-891d-26e4a6dfcaec"
      },
      "execution_count": null,
      "outputs": [
        {
          "output_type": "stream",
          "name": "stdout",
          "text": [
            "region_size:21*21 - labels:[0, 1]\n",
            "Total time: 2037.9091062545776 secs\n",
            "No of correctly classified images: 1316/1557\n",
            "Avg secs per image:  1.55\n"
          ]
        }
      ]
    },
    {
      "cell_type": "code",
      "source": [
        "score"
      ],
      "metadata": {
        "id": "nQgyOFoNn539",
        "colab": {
          "base_uri": "https://localhost:8080/"
        },
        "outputId": "e71f0948-a457-4eea-bf44-126f7c43bce2"
      },
      "execution_count": null,
      "outputs": [
        {
          "output_type": "execute_result",
          "data": {
            "text/plain": [
              "0.268"
            ]
          },
          "metadata": {},
          "execution_count": 18
        }
      ]
    },
    {
      "cell_type": "markdown",
      "metadata": {
        "id": "gS6Lz_zPA11c"
      },
      "source": [
        "## **region size 28*28** (heatmap 8*8)"
      ]
    },
    {
      "cell_type": "code",
      "execution_count": null,
      "metadata": {
        "id": "ToWc3XI2E1hb",
        "colab": {
          "base_uri": "https://localhost:8080/"
        },
        "outputId": "46c20f00-2eb0-47bb-a844-7879e152c899"
      },
      "outputs": [
        {
          "output_type": "stream",
          "name": "stdout",
          "text": [
            "region_size:28*28 - labels:[0, 1]\n",
            "Total time: 1197.3533585071564 secs\n",
            "No of correctly classified images: 1316/1557\n",
            "Avg secs per image:  0.91\n"
          ]
        }
      ],
      "source": [
        "score = run_experiment(region_size=28, labels=[0,1], xai='hirescam')"
      ]
    },
    {
      "cell_type": "code",
      "execution_count": null,
      "metadata": {
        "id": "ibkbPRgcWzmk",
        "colab": {
          "base_uri": "https://localhost:8080/"
        },
        "outputId": "9b7146e6-b6ae-4acb-9239-7655a707a398"
      },
      "outputs": [
        {
          "output_type": "execute_result",
          "data": {
            "text/plain": [
              "0.276"
            ]
          },
          "metadata": {},
          "execution_count": 20
        }
      ],
      "source": [
        "score"
      ]
    },
    {
      "cell_type": "markdown",
      "source": [
        "## **region size 56*56** (heatmap 4*4)"
      ],
      "metadata": {
        "id": "dNVe6VviKCBO"
      }
    },
    {
      "cell_type": "code",
      "source": [
        "score = run_experiment(region_size=56, labels=[0,1], xai='hirescam')"
      ],
      "metadata": {
        "id": "AbxGTLIGKCNM",
        "colab": {
          "base_uri": "https://localhost:8080/"
        },
        "outputId": "11c1b3a7-38eb-47ce-8935-e45db64be521"
      },
      "execution_count": null,
      "outputs": [
        {
          "output_type": "stream",
          "name": "stdout",
          "text": [
            "region_size:56*56 - labels:[0, 1]\n",
            "Total time: 424.0518753528595 secs\n",
            "No of correctly classified images: 1316/1557\n",
            "Avg secs per image:  0.32\n"
          ]
        }
      ]
    },
    {
      "cell_type": "code",
      "source": [
        "score"
      ],
      "metadata": {
        "id": "Hdgm7SBnKBb7",
        "colab": {
          "base_uri": "https://localhost:8080/"
        },
        "outputId": "4daa8133-b669-4d04-bb88-ee144fbc66b1"
      },
      "execution_count": null,
      "outputs": [
        {
          "output_type": "execute_result",
          "data": {
            "text/plain": [
              "0.345"
            ]
          },
          "metadata": {},
          "execution_count": 22
        }
      ]
    }
  ],
  "metadata": {
    "accelerator": "GPU",
    "colab": {
      "machine_shape": "hm",
      "provenance": [],
      "collapsed_sections": [
        "J80QyIeXwSqg",
        "FN2rORbkwW-O",
        "j75nS3JMwlBA",
        "bqDms25r2PGD",
        "qADJttQe31N2",
        "cRSkHHTa1-Z4",
        "AGVF_HjGA4fq",
        "ABprKmaSniYJ",
        "SQCzopgOAu8x",
        "WfBEeddWKO7x",
        "2x-Nhldp9OTv",
        "ADYBacGCHBUf",
        "j7IXVRB2n5qb",
        "gS6Lz_zPA11c",
        "dNVe6VviKCBO"
      ],
      "include_colab_link": true
    },
    "gpuClass": "standard",
    "kernelspec": {
      "display_name": "Python 3",
      "name": "python3"
    },
    "language_info": {
      "name": "python"
    }
  },
  "nbformat": 4,
  "nbformat_minor": 0
}