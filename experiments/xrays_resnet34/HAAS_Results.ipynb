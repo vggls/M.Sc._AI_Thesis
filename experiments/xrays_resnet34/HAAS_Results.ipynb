{
  "nbformat": 4,
  "nbformat_minor": 0,
  "metadata": {
    "colab": {
      "provenance": [],
      "collapsed_sections": [
        "tZ9-shIbb32K",
        "zvoLx_hdn1nt",
        "divhPPh7oN8q",
        "kTz6WzGrppyA"
      ],
      "include_colab_link": true
    },
    "kernelspec": {
      "name": "python3",
      "display_name": "Python 3"
    },
    "language_info": {
      "name": "python"
    },
    "accelerator": "GPU",
    "gpuClass": "standard"
  },
  "cells": [
    {
      "cell_type": "markdown",
      "metadata": {
        "id": "view-in-github",
        "colab_type": "text"
      },
      "source": [
        "<a href=\"https://colab.research.google.com/github/vggls/M.Sc._AI_Thesis/blob/main/experiments/xrays_resnet34/HAAS_Results.ipynb\" target=\"_parent\"><img src=\"https://colab.research.google.com/assets/colab-badge.svg\" alt=\"Open In Colab\"/></a>"
      ]
    },
    {
      "cell_type": "markdown",
      "source": [
        "# **1. Imports**"
      ],
      "metadata": {
        "id": "tZ9-shIbb32K"
      }
    },
    {
      "cell_type": "code",
      "execution_count": null,
      "metadata": {
        "id": "d_ITBh6zbwVR"
      },
      "outputs": [],
      "source": [
        "pip install grad-cam"
      ]
    },
    {
      "cell_type": "code",
      "source": [
        "import torch\n",
        "from torchvision  import datasets, transforms\n",
        "from pytorch_grad_cam import GradCAM, HiResCAM"
      ],
      "metadata": {
        "id": "IazndT41b7F4"
      },
      "execution_count": null,
      "outputs": []
    },
    {
      "cell_type": "code",
      "source": [
        "# custom written code\n",
        "from xrays import create_datasets\n",
        "from haas import Haas, HA_image\n",
        "#from densenet121 import _DenseNet121_"
      ],
      "metadata": {
        "id": "yytQElNcnvfR"
      },
      "execution_count": null,
      "outputs": []
    },
    {
      "cell_type": "code",
      "source": [
        "from google.colab import drive\n",
        "drive.mount('/content/drive')"
      ],
      "metadata": {
        "id": "xp7j5QzxcCbw",
        "colab": {
          "base_uri": "https://localhost:8080/"
        },
        "outputId": "695e8280-fe95-411d-8a9a-13daf0f06030"
      },
      "execution_count": null,
      "outputs": [
        {
          "output_type": "stream",
          "name": "stdout",
          "text": [
            "Mounted at /content/drive\n"
          ]
        }
      ]
    },
    {
      "cell_type": "markdown",
      "source": [
        "# **2. Download from Kaggle**"
      ],
      "metadata": {
        "id": "zvoLx_hdn1nt"
      }
    },
    {
      "cell_type": "code",
      "source": [
        "! mkdir ~/.kaggle\n",
        "!cp /content/drive/MyDrive/kaggle.json ~/.kaggle/kaggle.json"
      ],
      "metadata": {
        "id": "qmR8_Oxbn1xi"
      },
      "execution_count": null,
      "outputs": []
    },
    {
      "cell_type": "code",
      "source": [
        "! kaggle datasets download tawsifurrahman/covid19-radiography-database"
      ],
      "metadata": {
        "id": "Y0A2er1eoFGm",
        "colab": {
          "base_uri": "https://localhost:8080/"
        },
        "outputId": "711873d5-acf4-4ef4-e93f-9420a13b2742"
      },
      "execution_count": null,
      "outputs": [
        {
          "output_type": "stream",
          "name": "stdout",
          "text": [
            "Downloading covid19-radiography-database.zip to /content\n",
            "100% 777M/778M [00:34<00:00, 24.3MB/s]\n",
            "100% 778M/778M [00:34<00:00, 23.7MB/s]\n"
          ]
        }
      ]
    },
    {
      "cell_type": "code",
      "source": [
        "! unzip covid19-radiography-database.zip"
      ],
      "metadata": {
        "id": "y-ZAvE1JoFJb"
      },
      "execution_count": null,
      "outputs": []
    },
    {
      "cell_type": "markdown",
      "source": [
        "# **3. Test dataset**"
      ],
      "metadata": {
        "id": "divhPPh7oN8q"
      }
    },
    {
      "cell_type": "code",
      "source": [
        "# to be applied to training data\n",
        "train_transforms = transforms.Compose([\n",
        "    transforms.Resize((224, 224)),          #recommended size\n",
        "    transforms.RandomHorizontalFlip(),      #data augmentation\n",
        "    transforms.RandomVerticalFlip(),        #data augmentation\n",
        "    transforms.RandomRotation(degrees=20),  #data augmentation\n",
        "    transforms.ToTensor(),\n",
        "    transforms.Normalize(torch.Tensor([0.5, 0.5, 0.5]), torch.Tensor([0.5, 0.5, 0.5]))\n",
        "])\n",
        "# to be applied to validation and test data\n",
        "test_transforms = transforms.Compose([\n",
        "    transforms.Resize((224, 224)),\n",
        "    transforms.ToTensor(),\n",
        "    transforms.Normalize(torch.Tensor([0.5, 0.5, 0.5]), torch.Tensor([0.5, 0.5, 0.5]))\n",
        "])"
      ],
      "metadata": {
        "id": "9LQ7iJj6oPtQ"
      },
      "execution_count": null,
      "outputs": []
    },
    {
      "cell_type": "code",
      "source": [
        "train_dataset, validation_dataset, test_dataset = create_datasets(train_transforms, test_transforms)"
      ],
      "metadata": {
        "id": "iCFwkNNNoPu1"
      },
      "execution_count": null,
      "outputs": []
    },
    {
      "cell_type": "markdown",
      "source": [
        "# **4. ResNet34**"
      ],
      "metadata": {
        "id": "kTz6WzGrppyA"
      }
    },
    {
      "cell_type": "code",
      "source": [
        "drive_path = './drive/MyDrive/Colab_Notebooks/dataset_models/Covid-19_Radiography_Dataset/Models/'"
      ],
      "metadata": {
        "id": "FDWZ_ip3g7HY"
      },
      "execution_count": null,
      "outputs": []
    },
    {
      "cell_type": "code",
      "source": [
        "resnet34 = torch.load(drive_path + 'xrays_resnet34.pt')\n",
        "resnet34 = resnet34.cuda()\n",
        "resnet34 = resnet34.eval()"
      ],
      "metadata": {
        "id": "BTWJkyjppfeT"
      },
      "execution_count": null,
      "outputs": []
    },
    {
      "cell_type": "code",
      "source": [
        "resnet34_gradcam_instance = GradCAM(model=resnet34, target_layers=[resnet34.layer4[2].conv2], use_cuda=True)\n",
        "resnet34_hirescam_instance = HiResCAM(model=resnet34, target_layers=[resnet34.layer4[2].conv2], use_cuda=True)"
      ],
      "metadata": {
        "id": "FDdDKaqEpfgM"
      },
      "execution_count": null,
      "outputs": []
    },
    {
      "cell_type": "code",
      "source": [
        "print('-->GradCAM')\n",
        "gradcam_score, _, _, _ = Haas(test_dataset, resnet34, resnet34_gradcam_instance)\n",
        "print('HAAS score:', gradcam_score)\n",
        "print('---------------------------')\n",
        "print('-->HiResCAM')\n",
        "hirescam_score, _, _, _ = Haas(test_dataset, resnet34, resnet34_hirescam_instance)\n",
        "print('HAAS score:', hirescam_score)"
      ],
      "metadata": {
        "colab": {
          "base_uri": "https://localhost:8080/"
        },
        "id": "HqbWj8b44w_s",
        "outputId": "ac4323fe-a850-45f1-efc1-474727ce56f1"
      },
      "execution_count": null,
      "outputs": [
        {
          "output_type": "stream",
          "name": "stdout",
          "text": [
            "-->GradCAM\n",
            "No. of test images:  2119\n",
            "Total time: 72.83775806427002 secs\n",
            "Accuracy over original images:  0.95\n",
            "Accuracy over HA images:  0.82\n",
            "HAAS score: 0.86\n",
            "---------------------------\n",
            "-->HiResCAM\n",
            "No. of test images:  2119\n",
            "Total time: 72.65495181083679 secs\n",
            "Accuracy over original images:  0.95\n",
            "Accuracy over HA images:  0.64\n",
            "HAAS score: 0.67\n"
          ]
        }
      ]
    }
  ]
}