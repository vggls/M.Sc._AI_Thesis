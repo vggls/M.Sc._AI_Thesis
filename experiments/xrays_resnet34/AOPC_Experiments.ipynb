{
  "cells": [
    {
      "cell_type": "markdown",
      "metadata": {
        "id": "view-in-github",
        "colab_type": "text"
      },
      "source": [
        "<a href=\"https://colab.research.google.com/github/vggls/xai_and_evaluation_metrics/blob/main/example_xrays/AOPC_Experiments.ipynb\" target=\"_parent\"><img src=\"https://colab.research.google.com/assets/colab-badge.svg\" alt=\"Open In Colab\"/></a>"
      ]
    },
    {
      "cell_type": "markdown",
      "metadata": {
        "id": "J80QyIeXwSqg"
      },
      "source": [
        "**1. Imports**"
      ]
    },
    {
      "cell_type": "code",
      "execution_count": null,
      "metadata": {
        "id": "dmKnCRxI3MrQ"
      },
      "outputs": [],
      "source": [
        "pip install grad-cam"
      ]
    },
    {
      "cell_type": "code",
      "execution_count": null,
      "metadata": {
        "id": "qxBT2qoNHV7e"
      },
      "outputs": [],
      "source": [
        "import numpy as np\n",
        "import shutil\n",
        "import pickle\n",
        "\n",
        "import torch\n",
        "from torchvision  import datasets, transforms\n",
        "\n",
        "from pytorch_grad_cam import GradCAM, HiResCAM"
      ]
    },
    {
      "cell_type": "code",
      "execution_count": null,
      "metadata": {
        "id": "dxzFgtN5pcvv"
      },
      "outputs": [],
      "source": [
        "# custom written code \n",
        "from xrays import create_datasets\n",
        "from morf import MoRF, AOPC_Dataset, plot_aopc_per_step\n",
        "from heatmap import Heatmap"
      ]
    },
    {
      "cell_type": "code",
      "execution_count": null,
      "metadata": {
        "colab": {
          "base_uri": "https://localhost:8080/"
        },
        "id": "QWXT6yy79tRa",
        "outputId": "9214e0cf-b664-47aa-9115-825b38e52056"
      },
      "outputs": [
        {
          "output_type": "stream",
          "name": "stdout",
          "text": [
            "Mounted at /content/drive\n"
          ]
        }
      ],
      "source": [
        "from google.colab import drive  \n",
        "drive.mount('/content/drive') "
      ]
    },
    {
      "cell_type": "markdown",
      "metadata": {
        "id": "FN2rORbkwW-O"
      },
      "source": [
        "**2. Download from Kaggle**"
      ]
    },
    {
      "cell_type": "code",
      "execution_count": null,
      "metadata": {
        "id": "X5sMhGuJ91Io"
      },
      "outputs": [],
      "source": [
        "! mkdir ~/.kaggle\n",
        "!cp /content/drive/MyDrive/kaggle.json ~/.kaggle/kaggle.json"
      ]
    },
    {
      "cell_type": "code",
      "source": [
        "! kaggle datasets download tawsifurrahman/covid19-radiography-database"
      ],
      "metadata": {
        "colab": {
          "base_uri": "https://localhost:8080/"
        },
        "id": "Vbg65tdjYQIw",
        "outputId": "13a09a65-14c4-45f8-accf-ed9db0584471"
      },
      "execution_count": null,
      "outputs": [
        {
          "output_type": "stream",
          "name": "stdout",
          "text": [
            "Downloading covid19-radiography-database.zip to /content\n",
            " 97% 756M/778M [00:03<00:00, 217MB/s]\n",
            "100% 778M/778M [00:03<00:00, 214MB/s]\n"
          ]
        }
      ]
    },
    {
      "cell_type": "code",
      "source": [
        "! unzip covid19-radiography-database.zip"
      ],
      "metadata": {
        "id": "_FySf6NOYQLb"
      },
      "execution_count": null,
      "outputs": []
    },
    {
      "cell_type": "markdown",
      "metadata": {
        "id": "j75nS3JMwlBA"
      },
      "source": [
        "**3. Test dataset**"
      ]
    },
    {
      "cell_type": "code",
      "source": [
        "#shutil.rmtree('./COVID-19_Radiography_Dataset/test_dataset')"
      ],
      "metadata": {
        "id": "te-ftuQ_Ybp4"
      },
      "execution_count": null,
      "outputs": []
    },
    {
      "cell_type": "code",
      "execution_count": null,
      "metadata": {
        "id": "9eB3IyPgqwYS"
      },
      "outputs": [],
      "source": [
        "# to be applied to training data\n",
        "train_transforms = transforms.Compose([\n",
        "    transforms.Resize((224, 224)),          #recommended size\n",
        "    transforms.RandomHorizontalFlip(),      #data augmentation\n",
        "    transforms.RandomVerticalFlip(),        #data augmentation\n",
        "    transforms.RandomRotation(degrees=20),  #data augmentation\n",
        "    transforms.ToTensor(),\n",
        "    transforms.Normalize(torch.Tensor([0.5, 0.5, 0.5]), torch.Tensor([0.5, 0.5, 0.5]))\n",
        "])\n",
        "# to be applied to validation and test data\n",
        "test_transforms = transforms.Compose([\n",
        "    transforms.Resize((224, 224)),\n",
        "    transforms.ToTensor(),\n",
        "    transforms.Normalize(torch.Tensor([0.5, 0.5, 0.5]), torch.Tensor([0.5, 0.5, 0.5]))\n",
        "])"
      ]
    },
    {
      "cell_type": "code",
      "execution_count": null,
      "metadata": {
        "id": "GC89vEwRO5iP"
      },
      "outputs": [],
      "source": [
        "train_dataset, validation_dataset, test_dataset = create_datasets(train_transforms, test_transforms)"
      ]
    },
    {
      "cell_type": "code",
      "execution_count": null,
      "metadata": {
        "id": "jNxBV1ua0lSS"
      },
      "outputs": [],
      "source": [
        "# do not need them in this notebook\n",
        "shutil.rmtree('./COVID-19_Radiography_Dataset/training_dataset')\n",
        "shutil.rmtree('./COVID-19_Radiography_Dataset/validation_dataset')"
      ]
    },
    {
      "cell_type": "markdown",
      "metadata": {
        "id": "bqDms25r2PGD"
      },
      "source": [
        "**4. Model**"
      ]
    },
    {
      "cell_type": "code",
      "execution_count": null,
      "metadata": {
        "id": "jrI_OB8mUHAZ"
      },
      "outputs": [],
      "source": [
        "model_path = './drive/MyDrive/Colab_Notebooks/dataset_models/Covid-19_Radiography_Dataset/Models/'\n",
        "resnet34 = torch.load(model_path + 'xrays_resnet34.pt')"
      ]
    },
    {
      "cell_type": "code",
      "execution_count": null,
      "metadata": {
        "id": "iz5swrhHUewu"
      },
      "outputs": [],
      "source": [
        "resnet34 = resnet34.cuda()\n",
        "resnet34 = resnet34.eval()"
      ]
    },
    {
      "cell_type": "markdown",
      "metadata": {
        "id": "qADJttQe31N2"
      },
      "source": [
        "**5. AOPC**"
      ]
    },
    {
      "cell_type": "code",
      "execution_count": null,
      "metadata": {
        "id": "V09izbvIMkmF"
      },
      "outputs": [],
      "source": [
        "def run_experiment(region_size, labels, xai):\n",
        "\n",
        "    assert xai in ['gradcam', 'hirescam']\n",
        "\n",
        "    if xai == 'gradcam':\n",
        "      cam_instance = GradCAM(model=resnet34, target_layers=[resnet34.layer4[2].conv2], use_cuda=True)\n",
        "    elif xai == 'hirescam':\n",
        "      cam_instance = HiResCAM(model=resnet34, target_layers=[resnet34.layer4[2].conv2], use_cuda=True)\n",
        "    \n",
        "    print('region_size:{}*{} - labels:{}'.format(region_size, region_size, labels))\n",
        "\n",
        "    dataset = [(img, label) for (img, label) in test_dataset if (label in labels)]\n",
        "    diffs, img_scores, aopc_score = AOPC_Dataset(dataset = dataset, \n",
        "                                                 model = resnet34, \n",
        "                                                 region_size = region_size, \n",
        "                                                 cam_instance = cam_instance)\n",
        "\n",
        "    drive_path = './drive/MyDrive/Colab_Notebooks/dataset_models/Covid-19_Radiography_Dataset/AOPC/exp_ResNet34/'\n",
        "\n",
        "    if xai == 'gradcam':\n",
        "      with open(drive_path + 'aopc_resnet34_gradcam_diffs_region-size_{}_labels_{}.pickle'.format(region_size, labels), 'wb') as f: pickle.dump(diffs, f)\n",
        "      with open(drive_path + 'aopc_resnet34_gradcam_scores_region-size_{}_labels_{}.pickle'.format(region_size, labels), 'wb') as f: pickle.dump(img_scores, f)\n",
        "    elif xai == 'hirescam':\n",
        "      with open(drive_path + 'aopc_resnet34_hirescam_diffs_region-size_{}_labels_{}.pickle'.format(region_size, labels), 'wb') as f: pickle.dump(diffs, f)\n",
        "      with open(drive_path + 'aopc_resnet34_hirescam_scores_region-size_{}_labels_{}.pickle'.format(region_size, labels), 'wb') as f: pickle.dump(img_scores, f)\n",
        "    \n",
        "    return aopc_score"
      ]
    },
    {
      "cell_type": "markdown",
      "metadata": {
        "id": "cRSkHHTa1-Z4"
      },
      "source": [
        ">**GradCAM**"
      ]
    },
    {
      "cell_type": "markdown",
      "source": [
        "**region size 16*16** (heatmap 14*14)"
      ],
      "metadata": {
        "id": "hkCklX8OfUTH"
      }
    },
    {
      "cell_type": "code",
      "source": [
        "score = run_experiment(region_size=16, labels=[0,1], xai='gradcam')"
      ],
      "metadata": {
        "id": "FewqB4PxfUhG",
        "colab": {
          "base_uri": "https://localhost:8080/"
        },
        "outputId": "62165f76-39c7-4cbe-fc8c-f93eddb63c3f"
      },
      "execution_count": null,
      "outputs": [
        {
          "output_type": "stream",
          "name": "stdout",
          "text": [
            "region_size:16*16 - labels:[0, 1]\n",
            "Total time: 1356.2481248378754 secs\n",
            "No of correctly classified images: 929/964\n",
            "Avg secs per image:  1.46\n"
          ]
        }
      ]
    },
    {
      "cell_type": "code",
      "source": [
        "score"
      ],
      "metadata": {
        "id": "cTwKyYHqfUj6",
        "colab": {
          "base_uri": "https://localhost:8080/"
        },
        "outputId": "3821fa6a-5cf6-45db-96f8-d380403186f6"
      },
      "execution_count": null,
      "outputs": [
        {
          "output_type": "execute_result",
          "data": {
            "text/plain": [
              "0.535"
            ]
          },
          "metadata": {},
          "execution_count": 14
        }
      ]
    },
    {
      "cell_type": "code",
      "source": [
        "score = run_experiment(region_size=16, labels=[2,3], xai='gradcam')"
      ],
      "metadata": {
        "id": "xkC5JlmSfdC2",
        "colab": {
          "base_uri": "https://localhost:8080/"
        },
        "outputId": "d0488350-3f5b-457c-f0d4-e4d1fb2e410d"
      },
      "execution_count": null,
      "outputs": [
        {
          "output_type": "stream",
          "name": "stdout",
          "text": [
            "region_size:16*16 - labels:[2, 3]\n"
          ]
        }
      ]
    },
    {
      "cell_type": "code",
      "source": [
        "score"
      ],
      "metadata": {
        "id": "d00XxHMivg6C",
        "colab": {
          "base_uri": "https://localhost:8080/"
        },
        "outputId": "bce2fc31-9211-49eb-87ea-6f4cb329d26d"
      },
      "execution_count": null,
      "outputs": [
        {
          "output_type": "execute_result",
          "data": {
            "text/plain": [
              "0.892"
            ]
          },
          "metadata": {},
          "execution_count": 16
        }
      ]
    },
    {
      "cell_type": "markdown",
      "source": [
        "**region size 21*21** (heatmap 11*11)"
      ],
      "metadata": {
        "id": "VUXtYNMDzGTv"
      }
    },
    {
      "cell_type": "code",
      "source": [
        "score = run_experiment(region_size=21, labels=[0,1], xai='gradcam')"
      ],
      "metadata": {
        "id": "SOpD7xAmzIKG",
        "colab": {
          "base_uri": "https://localhost:8080/"
        },
        "outputId": "f437005e-f4c9-427e-ce16-b82479d262d4"
      },
      "execution_count": null,
      "outputs": [
        {
          "output_type": "stream",
          "name": "stdout",
          "text": [
            "region_size:21*21 - labels:[0, 1]\n",
            "Total time: 885.3204908370972 secs\n",
            "No of correctly classified images: 929/964\n",
            "Avg secs per image:  0.95\n"
          ]
        }
      ]
    },
    {
      "cell_type": "code",
      "source": [
        "score"
      ],
      "metadata": {
        "id": "cbujEISgzILr",
        "colab": {
          "base_uri": "https://localhost:8080/"
        },
        "outputId": "65b03108-f654-41d1-8915-da337659f63d"
      },
      "execution_count": null,
      "outputs": [
        {
          "output_type": "execute_result",
          "data": {
            "text/plain": [
              "0.532"
            ]
          },
          "metadata": {},
          "execution_count": 23
        }
      ]
    },
    {
      "cell_type": "code",
      "source": [
        "score = run_experiment(region_size=21, labels=[2,3], xai='gradcam')"
      ],
      "metadata": {
        "id": "0Byw_Zp0zIOR",
        "colab": {
          "base_uri": "https://localhost:8080/"
        },
        "outputId": "b7fd2135-1978-4f74-d2ac-debc81c792c2"
      },
      "execution_count": null,
      "outputs": [
        {
          "output_type": "stream",
          "name": "stdout",
          "text": [
            "region_size:21*21 - labels:[2, 3]\n",
            "Total time: 1036.3437812328339 secs\n",
            "No of correctly classified images: 1088/1155\n",
            "Avg secs per image:  0.95\n"
          ]
        }
      ]
    },
    {
      "cell_type": "code",
      "source": [
        "score"
      ],
      "metadata": {
        "id": "uUBevNvFzISQ",
        "colab": {
          "base_uri": "https://localhost:8080/"
        },
        "outputId": "2291f3fc-0673-4a94-93ad-ad308850eebb"
      },
      "execution_count": null,
      "outputs": [
        {
          "output_type": "execute_result",
          "data": {
            "text/plain": [
              "0.895"
            ]
          },
          "metadata": {},
          "execution_count": 25
        }
      ]
    },
    {
      "cell_type": "markdown",
      "metadata": {
        "id": "SQCzopgOAu8x"
      },
      "source": [
        "**region size 28*28** (heatmap 8*8)"
      ]
    },
    {
      "cell_type": "code",
      "execution_count": null,
      "metadata": {
        "id": "g3bk9-iWMswR",
        "colab": {
          "base_uri": "https://localhost:8080/"
        },
        "outputId": "b89953b1-8de6-44bb-fe74-71beaab991f2"
      },
      "outputs": [
        {
          "output_type": "stream",
          "name": "stdout",
          "text": [
            "region_size:28*28 - labels:[0, 1, 2, 3]\n",
            "Total time: 1146.345870733261 secs\n",
            "No of correctly classified images: 2017/2119\n",
            "Avg secs per image:  0.57\n"
          ]
        }
      ],
      "source": [
        "score = run_experiment(region_size=28, labels=[0,1,2,3], xai='gradcam')"
      ]
    },
    {
      "cell_type": "code",
      "execution_count": null,
      "metadata": {
        "id": "zNAytDWzPrM8",
        "colab": {
          "base_uri": "https://localhost:8080/"
        },
        "outputId": "01ccf75f-4c56-4df2-85f5-c23976ca0781"
      },
      "outputs": [
        {
          "output_type": "execute_result",
          "data": {
            "text/plain": [
              "0.724"
            ]
          },
          "metadata": {},
          "execution_count": 15
        }
      ],
      "source": [
        "score"
      ]
    },
    {
      "cell_type": "markdown",
      "source": [
        "**region size 38*38** (heatmap 6*6)"
      ],
      "metadata": {
        "id": "r1xu0OzaJk5y"
      }
    },
    {
      "cell_type": "code",
      "source": [
        "score = run_experiment(region_size=38, labels=[0,1,2,3], xai='gradcam')"
      ],
      "metadata": {
        "id": "42gIV2tZn9l2"
      },
      "execution_count": null,
      "outputs": []
    },
    {
      "cell_type": "code",
      "source": [
        "score"
      ],
      "metadata": {
        "id": "v3NMLlfdJjwh"
      },
      "execution_count": null,
      "outputs": []
    },
    {
      "cell_type": "markdown",
      "source": [
        "**region size 56*56** (heatmap 4*4)\n",
        "\n"
      ],
      "metadata": {
        "id": "rF3mN_lp0vSJ"
      }
    },
    {
      "cell_type": "code",
      "source": [
        "score = run_experiment(region_size=56, labels=[0,1,2,3], xai='gradcam')"
      ],
      "metadata": {
        "id": "PNGBgX3S0wAX",
        "colab": {
          "base_uri": "https://localhost:8080/"
        },
        "outputId": "5692b501-fcfc-443b-f3eb-2fde54e13f78"
      },
      "execution_count": null,
      "outputs": [
        {
          "output_type": "stream",
          "name": "stdout",
          "text": [
            "region_size:56*56 - labels:[0, 1, 2, 3]\n",
            "Total time: 465.1636760234833 secs\n",
            "No of correctly classified images: 2017/2119\n",
            "Avg secs per image:  0.23\n"
          ]
        }
      ]
    },
    {
      "cell_type": "code",
      "source": [
        "score"
      ],
      "metadata": {
        "id": "lVFKATZP0wDM",
        "colab": {
          "base_uri": "https://localhost:8080/"
        },
        "outputId": "5b7a6528-d201-404a-d7d0-e6aa605f5a9b"
      },
      "execution_count": null,
      "outputs": [
        {
          "output_type": "execute_result",
          "data": {
            "text/plain": [
              "0.712"
            ]
          },
          "metadata": {},
          "execution_count": 21
        }
      ]
    },
    {
      "cell_type": "markdown",
      "metadata": {
        "id": "2x-Nhldp9OTv"
      },
      "source": [
        ">**HiResCAM**"
      ]
    },
    {
      "cell_type": "markdown",
      "source": [
        "**region size 16*16** (heatmap 14*14)"
      ],
      "metadata": {
        "id": "698VBV7afjDi"
      }
    },
    {
      "cell_type": "code",
      "source": [
        "score = run_experiment(region_size=16, labels=[0,1], xai='hirescam')"
      ],
      "metadata": {
        "id": "bWaed8RYfjOz",
        "colab": {
          "base_uri": "https://localhost:8080/"
        },
        "outputId": "b69032f7-1e88-4d6f-e973-1e663b934876"
      },
      "execution_count": null,
      "outputs": [
        {
          "output_type": "stream",
          "name": "stdout",
          "text": [
            "region_size:16*16 - labels:[0, 1]\n",
            "Total time: 1342.0818548202515 secs\n",
            "No of correctly classified images: 929/964\n",
            "Avg secs per image:  1.44\n"
          ]
        }
      ]
    },
    {
      "cell_type": "code",
      "source": [
        "score"
      ],
      "metadata": {
        "id": "JAGuOhM_fjQp",
        "colab": {
          "base_uri": "https://localhost:8080/"
        },
        "outputId": "0814413a-e79d-4637-f14a-f53ca17e719a"
      },
      "execution_count": null,
      "outputs": [
        {
          "output_type": "execute_result",
          "data": {
            "text/plain": [
              "0.558"
            ]
          },
          "metadata": {},
          "execution_count": 18
        }
      ]
    },
    {
      "cell_type": "code",
      "source": [
        "score = run_experiment(region_size=16, labels=[2,3], xai='hirescam')"
      ],
      "metadata": {
        "id": "g8NxOYsqfjS8",
        "colab": {
          "base_uri": "https://localhost:8080/"
        },
        "outputId": "bf6bcc0f-9f43-4374-fcf0-264859965b26"
      },
      "execution_count": null,
      "outputs": [
        {
          "output_type": "stream",
          "name": "stdout",
          "text": [
            "region_size:16*16 - labels:[2, 3]\n",
            "Total time: 1578.2365884780884 secs\n",
            "No of correctly classified images: 1088/1155\n",
            "Avg secs per image:  1.45\n"
          ]
        }
      ]
    },
    {
      "cell_type": "code",
      "source": [
        "score"
      ],
      "metadata": {
        "id": "LJBU8m6eNYXK",
        "colab": {
          "base_uri": "https://localhost:8080/"
        },
        "outputId": "8f2f9909-5a53-4e17-db78-80d4959b8054"
      },
      "execution_count": null,
      "outputs": [
        {
          "output_type": "execute_result",
          "data": {
            "text/plain": [
              "0.89"
            ]
          },
          "metadata": {},
          "execution_count": 20
        }
      ]
    },
    {
      "cell_type": "markdown",
      "source": [
        "**region size 21*21** (heatmap 11*11)"
      ],
      "metadata": {
        "id": "OyAjEgP3zXWb"
      }
    },
    {
      "cell_type": "code",
      "source": [
        "score = run_experiment(region_size=21, labels=[0,1], xai='hirescam')"
      ],
      "metadata": {
        "id": "3UeLkEnqzXqo",
        "colab": {
          "base_uri": "https://localhost:8080/"
        },
        "outputId": "57f9708a-2ebc-4433-db32-83e2d8f54856"
      },
      "execution_count": null,
      "outputs": [
        {
          "output_type": "stream",
          "name": "stdout",
          "text": [
            "region_size:21*21 - labels:[0, 1]\n",
            "Total time: 885.4581038951874 secs\n",
            "No of correctly classified images: 929/964\n",
            "Avg secs per image:  0.95\n"
          ]
        }
      ]
    },
    {
      "cell_type": "code",
      "source": [
        "score"
      ],
      "metadata": {
        "id": "wjSsKM2DzXsL",
        "colab": {
          "base_uri": "https://localhost:8080/"
        },
        "outputId": "0c8e1e35-d2f8-4abe-d8e0-65eb776cc5f2"
      },
      "execution_count": null,
      "outputs": [
        {
          "output_type": "execute_result",
          "data": {
            "text/plain": [
              "0.564"
            ]
          },
          "metadata": {},
          "execution_count": 27
        }
      ]
    },
    {
      "cell_type": "code",
      "source": [
        "score = run_experiment(region_size=21, labels=[2,3], xai='hirescam')"
      ],
      "metadata": {
        "id": "h0rgzkfkzXuZ",
        "colab": {
          "base_uri": "https://localhost:8080/"
        },
        "outputId": "2dbc8285-b86d-4f29-9c91-0e57217fad3f"
      },
      "execution_count": null,
      "outputs": [
        {
          "output_type": "stream",
          "name": "stdout",
          "text": [
            "region_size:21*21 - labels:[2, 3]\n",
            "Total time: 1036.7783591747284 secs\n",
            "No of correctly classified images: 1088/1155\n",
            "Avg secs per image:  0.95\n"
          ]
        }
      ]
    },
    {
      "cell_type": "code",
      "source": [
        "score"
      ],
      "metadata": {
        "id": "gSOTxsIAzXx7",
        "colab": {
          "base_uri": "https://localhost:8080/"
        },
        "outputId": "f0fbd152-5b7e-4752-8a7c-5cb4e41193d6"
      },
      "execution_count": null,
      "outputs": [
        {
          "output_type": "execute_result",
          "data": {
            "text/plain": [
              "0.892"
            ]
          },
          "metadata": {},
          "execution_count": 29
        }
      ]
    },
    {
      "cell_type": "markdown",
      "metadata": {
        "id": "gS6Lz_zPA11c"
      },
      "source": [
        "**region size 28*28** (heatmap 8*8)"
      ]
    },
    {
      "cell_type": "code",
      "execution_count": null,
      "metadata": {
        "id": "ToWc3XI2E1hb",
        "colab": {
          "base_uri": "https://localhost:8080/"
        },
        "outputId": "0037ef8f-a0a6-45b9-e190-9b4aa84cd0b5"
      },
      "outputs": [
        {
          "output_type": "stream",
          "name": "stdout",
          "text": [
            "region_size:28*28 - labels:[0, 1, 2, 3]\n",
            "Total time: 1133.3510348796844 secs\n",
            "No of correctly classified images: 2017/2119\n",
            "Avg secs per image:  0.56\n"
          ]
        }
      ],
      "source": [
        "score = run_experiment(region_size=28, labels=[0,1,2,3], xai='hirescam')"
      ]
    },
    {
      "cell_type": "code",
      "execution_count": null,
      "metadata": {
        "id": "ibkbPRgcWzmk",
        "colab": {
          "base_uri": "https://localhost:8080/"
        },
        "outputId": "2fc6fd27-1f5c-4ba3-d46a-89657e0c819a"
      },
      "outputs": [
        {
          "output_type": "execute_result",
          "data": {
            "text/plain": [
              "0.733"
            ]
          },
          "metadata": {},
          "execution_count": 17
        }
      ],
      "source": [
        "score"
      ]
    },
    {
      "cell_type": "markdown",
      "source": [
        "**region size 38*38** (heatmap 6*6)"
      ],
      "metadata": {
        "id": "3fKNqobeIlaV"
      }
    },
    {
      "cell_type": "code",
      "source": [
        "score = run_experiment(region_size=38, labels=[0,1,2,3], xai='hirescam')"
      ],
      "metadata": {
        "id": "M6FMGSnBIhHO"
      },
      "execution_count": null,
      "outputs": []
    },
    {
      "cell_type": "code",
      "execution_count": null,
      "metadata": {
        "id": "GZcH7skKHHdQ"
      },
      "outputs": [],
      "source": [
        "score"
      ]
    },
    {
      "cell_type": "markdown",
      "source": [
        "**region size 56*56** (heatmap 4*4)"
      ],
      "metadata": {
        "id": "hkgVyQfN06j3"
      }
    },
    {
      "cell_type": "code",
      "source": [
        "score = run_experiment(region_size=56, labels=[0,1,2,3], xai='hirescam')"
      ],
      "metadata": {
        "id": "H_Jn0i-e06u2",
        "colab": {
          "base_uri": "https://localhost:8080/"
        },
        "outputId": "4e9fd80d-5087-4a59-ca2e-abdc249df5f1"
      },
      "execution_count": null,
      "outputs": [
        {
          "output_type": "stream",
          "name": "stdout",
          "text": [
            "region_size:56*56 - labels:[0, 1, 2, 3]\n",
            "Total time: 462.3086519241333 secs\n",
            "No of correctly classified images: 2017/2119\n",
            "Avg secs per image:  0.23\n"
          ]
        }
      ]
    },
    {
      "cell_type": "code",
      "source": [
        "score"
      ],
      "metadata": {
        "id": "2jEKJQO_06xn",
        "colab": {
          "base_uri": "https://localhost:8080/"
        },
        "outputId": "99a06c38-f332-41c2-e0f1-39be12412e2f"
      },
      "execution_count": null,
      "outputs": [
        {
          "output_type": "execute_result",
          "data": {
            "text/plain": [
              "0.726"
            ]
          },
          "metadata": {},
          "execution_count": 19
        }
      ]
    }
  ],
  "metadata": {
    "accelerator": "GPU",
    "colab": {
      "machine_shape": "hm",
      "provenance": [],
      "include_colab_link": true
    },
    "gpuClass": "standard",
    "kernelspec": {
      "display_name": "Python 3",
      "name": "python3"
    },
    "language_info": {
      "name": "python"
    }
  },
  "nbformat": 4,
  "nbformat_minor": 0
}